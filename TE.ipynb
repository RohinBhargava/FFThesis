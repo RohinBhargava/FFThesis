{
 "cells": [
  {
   "cell_type": "code",
   "execution_count": 10,
   "metadata": {},
   "outputs": [
    {
     "name": "stderr",
     "output_type": "stream",
     "text": [
      "/home/legmonkey/Documents/FFThesis/common.py:56: SettingWithCopyWarning: \n",
      "A value is trying to be set on a copy of a slice from a DataFrame\n",
      "\n",
      "See the caveats in the documentation: http://pandas.pydata.org/pandas-docs/stable/indexing.html#indexing-view-versus-copy\n",
      "  row[b] = np.float32(0)\n"
     ]
    },
    {
     "name": "stdout",
     "output_type": "stream",
     "text": [
      "Tgt 0.44167066 9.285421\n",
      "Rec 0.4543491 6.03816\n",
      "WYds 0.41869688 63.98627\n",
      "WTD 0.6253924 0.62536114\n",
      "0.4850272536277771 {'GronRo00': [(40.38569, 105.0), (26.431158, 69.0), (502.70087, 1084.0), (4.4117036, 8.0)], 'KelcTr00': [(77.93204, 122.0), (56.20843, 83.0), (751.79504, 1038.0), (3.5232239, 8.0)], 'ErtzZa00': [(56.963997, 110.0), (37.617256, 74.0), (414.78442, 824.0), (1.7550364, 8.0)], 'EngrEv00': [(82.175644, 115.0), (45.659847, 64.0), (531.21387, 722.0), (4.687862, 6.0)], 'GrahJi00': [(54.794094, 96.0), (36.1363, 57.0), (492.81732, 520.0), (2.577309, 10.0)]}\n"
     ]
    }
   ],
   "source": [
    "%run -i baseline.py TE"
   ]
  },
  {
   "cell_type": "code",
   "execution_count": 4,
   "metadata": {},
   "outputs": [
    {
     "name": "stderr",
     "output_type": "stream",
     "text": [
      "/home/legmonkey/Documents/FFThesis/common.py:56: SettingWithCopyWarning: \n",
      "A value is trying to be set on a copy of a slice from a DataFrame\n",
      "\n",
      "See the caveats in the documentation: http://pandas.pydata.org/pandas-docs/stable/indexing.html#indexing-view-versus-copy\n",
      "  row[b] = np.float32(0)\n"
     ]
    },
    {
     "name": "stdout",
     "output_type": "stream",
     "text": [
      "Tgt 2.347408755490667 No. Skipped: 2\n",
      "Rec 2.02240907531624 No. Skipped: 2\n",
      "WYds 1.4097695320369046 No. Skipped: 3\n",
      "WTD 22.271145089062845 No. Skipped: 129\n",
      "7.012683112976664\n"
     ]
    }
   ],
   "source": [
    "%run -i arima.py TE"
   ]
  },
  {
   "cell_type": "code",
   "execution_count": 2,
   "metadata": {},
   "outputs": [
    {
     "name": "stderr",
     "output_type": "stream",
     "text": [
      "/home/legmonkey/Documents/FFThesis/common.py:56: SettingWithCopyWarning: \n",
      "A value is trying to be set on a copy of a slice from a DataFrame\n",
      "\n",
      "See the caveats in the documentation: http://pandas.pydata.org/pandas-docs/stable/indexing.html#indexing-view-versus-copy\n",
      "  row[b] = np.float32(0)\n"
     ]
    },
    {
     "name": "stdout",
     "output_type": "stream",
     "text": [
      "Tgt 0.46448272 11.333981\n",
      "Rec 0.3797371 7.094862\n",
      "WYds 0.34394076 76.55042\n",
      "WTD 0.3748699 0.6896904\n",
      "0.39075762778520584 {'GronRo00': [(82.0496597290039, 105.0), (26.35335350036621, 69.0), (459.5224609375, 1084.0), (3.2272536754608154, 8.0)], 'KelcTr00': [(68.93004608154297, 122.0), (66.28153228759766, 83.0), (775.7346801757812, 1038.0), (4.11110782623291, 8.0)], 'ErtzZa00': [(13.49256420135498, 110.0), (10.752988815307617, 74.0), (184.99249267578125, 824.0), (0.40098458528518677, 8.0)], 'EngrEv00': [(87.44049835205078, 115.0), (61.716773986816406, 64.0), (641.2666015625, 722.0), (5.325620651245117, 6.0)], 'GrahJi00': [(56.5734977722168, 96.0), (44.68373489379883, 57.0), (663.0966796875, 520.0), (5.343732833862305, 10.0)]}\n"
     ]
    }
   ],
   "source": [
    "%run -i rnn.py TE"
   ]
  },
  {
   "cell_type": "code",
   "execution_count": 3,
   "metadata": {},
   "outputs": [
    {
     "name": "stderr",
     "output_type": "stream",
     "text": [
      "/home/legmonkey/Documents/FFThesis/common.py:56: SettingWithCopyWarning: \n",
      "A value is trying to be set on a copy of a slice from a DataFrame\n",
      "\n",
      "See the caveats in the documentation: http://pandas.pydata.org/pandas-docs/stable/indexing.html#indexing-view-versus-copy\n",
      "  row[b] = np.float32(0)\n"
     ]
    },
    {
     "name": "stdout",
     "output_type": "stream",
     "text": [
      "{'fit_intercept': False} Tgt 0.068058246170987 4.607977622173371\n",
      "{'fit_intercept': False} Rec 0.0879728298065154 3.166318644613178\n",
      "{'fit_intercept': False} WYds 0.0818992831659683 32.67662238368298\n",
      "{'fit_intercept': False} WTD 0.3665328785168467 0.5646262160554115\n",
      "0.15111580941507935 {'GronRo00': [(85.41988504742079, 105.0), (55.531031350050014, 69.0), (702.1110601037594, 1084.0), (4.346030040948039, 8.0)], 'KelcTr00': [(99.49283680004989, 122.0), (64.26037542178176, 83.0), (759.1636231492885, 1038.0), (4.6818297874112496, 8.0)], 'ErtzZa00': [(86.50169607873869, 110.0), (55.90036325340345, 74.0), (639.4206459537126, 824.0), (4.103811231349077, 8.0)], 'EngrEv00': [(92.4804436761979, 115.0), (59.29784641603833, 64.0), (692.8011553169424, 722.0), (4.2614293644164825, 6.0)], 'GrahJi00': [(72.43922134784563, 96.0), (46.84598997892385, 57.0), (511.5089331905939, 520.0), (3.4772674184718353, 10.0)]}\n"
     ]
    }
   ],
   "source": [
    "%run -i complexlr.py TE"
   ]
  },
  {
   "cell_type": "code",
   "execution_count": 4,
   "metadata": {},
   "outputs": [
    {
     "name": "stderr",
     "output_type": "stream",
     "text": [
      "/home/legmonkey/Documents/FFThesis/common.py:56: SettingWithCopyWarning: \n",
      "A value is trying to be set on a copy of a slice from a DataFrame\n",
      "\n",
      "See the caveats in the documentation: http://pandas.pydata.org/pandas-docs/stable/indexing.html#indexing-view-versus-copy\n",
      "  row[b] = np.float32(0)\n"
     ]
    },
    {
     "name": "stdout",
     "output_type": "stream",
     "text": [
      "{'alpha': 0.01, 'fit_intercept': False} Tgt 0.07250119093809983 4.75774224332059\n",
      "{'alpha': 0.01, 'fit_intercept': False} Rec 0.0930680840955911 3.259579574955315\n",
      "{'alpha': 0.01, 'fit_intercept': False} WYds 0.08916876360568883 34.06179203576268\n",
      "{'alpha': 0.01, 'fit_intercept': False} WTD 0.3776432017086622 0.5770265348213482\n",
      "0.1580953100870105 {'GronRo00': [(84.01800306946245, 105.0), (54.837135207722014, 69.0), (665.1603745397712, 1084.0), (4.1998048871783435, 8.0)], 'KelcTr00': [(98.42858248226932, 122.0), (63.55213865483352, 83.0), (749.335954124984, 1038.0), (4.550929917893674, 8.0)], 'ErtzZa00': [(85.87204904379303, 110.0), (55.41012485274088, 74.0), (636.6578023912418, 824.0), (4.004473830085452, 8.0)], 'EngrEv00': [(91.30371616138432, 115.0), (58.740138831472535, 64.0), (658.924970256249, 722.0), (4.1321144763721875, 6.0)], 'GrahJi00': [(72.83410389885556, 96.0), (47.10637836404891, 57.0), (512.7709404831584, 520.0), (3.4029175265348286, 10.0)]}\n"
     ]
    }
   ],
   "source": [
    "%run -i complexlar.py TE"
   ]
  },
  {
   "cell_type": "code",
   "execution_count": 5,
   "metadata": {},
   "outputs": [
    {
     "name": "stderr",
     "output_type": "stream",
     "text": [
      "/home/legmonkey/Documents/FFThesis/common.py:56: SettingWithCopyWarning: \n",
      "A value is trying to be set on a copy of a slice from a DataFrame\n",
      "\n",
      "See the caveats in the documentation: http://pandas.pydata.org/pandas-docs/stable/indexing.html#indexing-view-versus-copy\n",
      "  row[b] = np.float32(0)\n"
     ]
    },
    {
     "name": "stdout",
     "output_type": "stream",
     "text": [
      "{'alpha': 0.99, 'fit_intercept': False} Tgt 0.06813428982001601 4.611202903809294\n",
      "{'alpha': 0.99, 'fit_intercept': False} Rec 0.08798932528755873 3.167378703890575\n",
      "{'alpha': 0.99, 'fit_intercept': False} WYds 0.08196388278086456 32.69522911036109\n",
      "{'alpha': 0.99, 'fit_intercept': False} WTD 0.36658931912646564 0.5646792183280609\n",
      "0.15116920425372624 {'GronRo00': [(85.40139672948455, 105.0), (55.51960394658769, 69.0), (701.7413668373435, 1084.0), (4.3449210356384205, 8.0)], 'KelcTr00': [(99.4853526363392, 122.0), (64.2560803459975, 83.0), (759.0685787317733, 1038.0), (4.681371947058006, 8.0)], 'ErtzZa00': [(86.49307913243067, 110.0), (55.89488787313024, 74.0), (639.355192953866, 824.0), (4.103531061499785, 8.0)], 'EngrEv00': [(92.42638397090388, 115.0), (59.26610516127616, 64.0), (692.2718522392195, 722.0), (4.259357315654457, 6.0)], 'GrahJi00': [(72.41572966452122, 96.0), (46.831562663180364, 57.0), (511.3656907060926, 520.0), (3.4764385347962827, 10.0)]}\n"
     ]
    }
   ],
   "source": [
    "%run -i complexrr.py TE"
   ]
  },
  {
   "cell_type": "code",
   "execution_count": 6,
   "metadata": {},
   "outputs": [
    {
     "name": "stderr",
     "output_type": "stream",
     "text": [
      "/home/legmonkey/Documents/FFThesis/common.py:56: SettingWithCopyWarning: \n",
      "A value is trying to be set on a copy of a slice from a DataFrame\n",
      "\n",
      "See the caveats in the documentation: http://pandas.pydata.org/pandas-docs/stable/indexing.html#indexing-view-versus-copy\n",
      "  row[b] = np.float32(0)\n"
     ]
    },
    {
     "name": "stdout",
     "output_type": "stream",
     "text": [
      "{'C': 1, 'gamma': 0.01, 'kernel': 'rbf'} Tgt 0.10556865946592933 4.418673668489077\n",
      "{'C': 1, 'gamma': 0.01, 'kernel': 'rbf'} Rec 0.12943180353422712 2.979991195902793\n",
      "{'C': 10, 'gamma': 0.01, 'kernel': 'linear'} WYds 0.14202589111175676 37.03814317666849\n",
      "{'C': 0.1, 'gamma': 0.1, 'kernel': 'rbf'} WTD 1.0381254383820013 0.8070944320103306\n",
      "0.35378794812347863 {'GronRo00': [(71.88888935792947, 105.0), (46.6532693624621, 69.0), (638.0283647807785, 1084.0), (0.374673034210967, 8.0)], 'KelcTr00': [(82.32794594136399, 122.0), (53.708330271137136, 83.0), (668.7677070525099, 1038.0), (0.37663171170131415, 8.0)], 'ErtzZa00': [(71.3137113641099, 110.0), (46.25049785261416, 74.0), (547.762481607633, 824.0), (0.34943197737640885, 8.0)], 'EngrEv00': [(78.53844004695132, 115.0), (48.761464350809476, 64.0), (573.1704614722826, 722.0), (0.39583005171754937, 6.0)], 'GrahJi00': [(61.78937185320404, 96.0), (38.88286041942052, 57.0), (416.23963733303776, 520.0), (0.3613912147638565, 10.0)]}\n"
     ]
    }
   ],
   "source": [
    "%run -i complexsvr.py TE"
   ]
  },
  {
   "cell_type": "code",
   "execution_count": 7,
   "metadata": {},
   "outputs": [
    {
     "name": "stderr",
     "output_type": "stream",
     "text": [
      "/home/legmonkey/Documents/FFThesis/common.py:56: SettingWithCopyWarning: \n",
      "A value is trying to be set on a copy of a slice from a DataFrame\n",
      "\n",
      "See the caveats in the documentation: http://pandas.pydata.org/pandas-docs/stable/indexing.html#indexing-view-versus-copy\n",
      "  row[b] = np.float32(0)\n"
     ]
    },
    {
     "name": "stdout",
     "output_type": "stream",
     "text": [
      "{'learning_rate': 0.1, 'max_depth': 1, 'min_samples_split': 2} Tgt 0.07063386012570926 3.993725222851312\n",
      "{'learning_rate': 0.1, 'max_depth': 1, 'min_samples_split': 2} Rec 0.091822400610871 2.820787502137962\n",
      "{'learning_rate': 0.1, 'max_depth': 1, 'min_samples_split': 2} WYds 0.09316804643987521 30.95717813375524\n",
      "{'learning_rate': 0.1, 'max_depth': 1, 'min_samples_split': 10} WTD 0.39375225545163234 0.5350437041980131\n",
      "0.16234414065702196 {'GronRo00': [(72.77762396880459, 105.0), (46.29742960375218, 69.0), (565.3697153065673, 1084.0), (3.080466190410159, 8.0)], 'KelcTr00': [(87.31740987147062, 122.0), (56.653517779950825, 83.0), (716.5863168593077, 1038.0), (3.276043623978391, 8.0)], 'ErtzZa00': [(74.11260759004905, 110.0), (49.078743669982174, 74.0), (593.8705685797707, 824.0), (3.0559991105951294, 8.0)], 'EngrEv00': [(82.92040693815869, 115.0), (54.14633198226038, 64.0), (643.5753744090287, 722.0), (3.4219350651765885, 6.0)], 'GrahJi00': [(69.6869921796191, 96.0), (44.090790785526046, 57.0), (488.2461801260099, 520.0), (3.1296415888988953, 10.0)]}\n"
     ]
    }
   ],
   "source": [
    "%run -i complexgbt.py TE"
   ]
  },
  {
   "cell_type": "code",
   "execution_count": 8,
   "metadata": {},
   "outputs": [
    {
     "name": "stderr",
     "output_type": "stream",
     "text": [
      "/home/legmonkey/Documents/FFThesis/common.py:56: SettingWithCopyWarning: \n",
      "A value is trying to be set on a copy of a slice from a DataFrame\n",
      "\n",
      "See the caveats in the documentation: http://pandas.pydata.org/pandas-docs/stable/indexing.html#indexing-view-versus-copy\n",
      "  row[b] = np.float32(0)\n"
     ]
    },
    {
     "name": "stdout",
     "output_type": "stream",
     "text": [
      "{'max_depth': 5, 'max_leaf_nodes': 200, 'min_samples_leaf': 10, 'min_samples_split': 5} Tgt 0.060585114341383146 3.8346001509640555\n",
      "{'max_depth': 5, 'max_leaf_nodes': 200, 'min_samples_leaf': 10, 'min_samples_split': 5} Rec 0.1000263175276218 3.4148868714797977\n",
      "{'max_depth': 5, 'max_leaf_nodes': 100, 'min_samples_leaf': 10, 'min_samples_split': 5} WYds 0.09558812070249324 37.85085997285712\n",
      "{'max_depth': 5, 'max_leaf_nodes': 200, 'min_samples_leaf': 10, 'min_samples_split': 10} WTD 0.3623341907155853 0.5134927371219884\n",
      "0.15463343582177086 {'GronRo00': [(78.6731762154096, 105.0), (47.14450471816775, 69.0), (642.059559252516, 1084.0), (3.302556298419887, 8.0)], 'KelcTr00': [(85.75436232459955, 122.0), (52.0293463806062, 83.0), (664.9675692652478, 1038.0), (4.0020168625999135, 8.0)], 'ErtzZa00': [(78.62650202099309, 110.0), (49.65439547675264, 74.0), (645.4075771632047, 824.0), (3.1189184165619754, 8.0)], 'EngrEv00': [(82.14177611207384, 115.0), (51.24241226591754, 64.0), (609.2763049316679, 722.0), (3.909977921874117, 6.0)], 'GrahJi00': [(73.8424438721408, 96.0), (48.7472803601689, 57.0), (551.3863991740817, 520.0), (3.093631663130597, 10.0)]}\n"
     ]
    }
   ],
   "source": [
    "%run -i complexrfr.py TE"
   ]
  },
  {
   "cell_type": "code",
   "execution_count": 9,
   "metadata": {},
   "outputs": [
    {
     "name": "stderr",
     "output_type": "stream",
     "text": [
      "/home/legmonkey/Documents/FFThesis/common.py:56: SettingWithCopyWarning: \n",
      "A value is trying to be set on a copy of a slice from a DataFrame\n",
      "\n",
      "See the caveats in the documentation: http://pandas.pydata.org/pandas-docs/stable/indexing.html#indexing-view-versus-copy\n",
      "  row[b] = np.float32(0)\n"
     ]
    },
    {
     "name": "stdout",
     "output_type": "stream",
     "text": [
      "Tgt 0.016561223 1.5167394688366154\n",
      "Rec 0.01927054 1.4044034197820838\n",
      "WYds 0.025287488 12.810711103128202\n",
      "WTD 0.05771384 0.16881836615899143\n",
      "0.02970827277749777 {'GronRo00': [(115.64241, 105.0), (67.78494, 69.0), (969.38965, 1084.0), (6.8818865, 8.0)], 'KelcTr00': [(101.82213, 122.0), (67.94719, 83.0), (844.678, 1038.0), (6.6447268, 8.0)], 'ErtzZa00': [(119.41992, 110.0), (77.68674, 74.0), (934.9613, 824.0), (6.141466, 8.0)], 'EngrEv00': [(104.992455, 115.0), (64.6349, 64.0), (782.04944, 722.0), (6.1212826, 6.0)], 'GrahJi00': [(84.06865, 96.0), (56.884327, 57.0), (588.15405, 520.0), (8.107521, 10.0)]}\n"
     ]
    }
   ],
   "source": [
    "%run -i complexrnn.py TE"
   ]
  },
  {
   "cell_type": "code",
   "execution_count": null,
   "metadata": {},
   "outputs": [],
   "source": []
  }
 ],
 "metadata": {
  "kernelspec": {
   "display_name": "Python 3",
   "language": "python",
   "name": "python3"
  },
  "language_info": {
   "codemirror_mode": {
    "name": "ipython",
    "version": 3
   },
   "file_extension": ".py",
   "mimetype": "text/x-python",
   "name": "python",
   "nbconvert_exporter": "python",
   "pygments_lexer": "ipython3",
   "version": "3.6.4"
  }
 },
 "nbformat": 4,
 "nbformat_minor": 2
}
