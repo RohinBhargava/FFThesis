{
 "cells": [
  {
   "cell_type": "code",
   "execution_count": 26,
   "metadata": {
    "scrolled": true
   },
   "outputs": [
    {
     "name": "stdout",
     "output_type": "stream",
     "text": [
      "Cmp 0.3030291 33.706036\n",
      "Att 0.29279423 54.249725\n",
      "Yds 0.29092473 360.3853\n",
      "TD 0.36160937 2.6424992\n",
      "Int 0.46955752 1.8852173\n",
      "RAtt 0.33415672 5.465186\n",
      "RYds 0.51621073 32.94961\n",
      "RTD 0.50395894 0.35629645\n",
      "0.38403016701340675 {'BradTo00': [(238.69951, 385.0), (359.39432, 581.0), (2950.733, 4576.9995), (22.962038, 32.0), (2.4596379, 8.0), (26.292381, 25.0), (36.34636, 28.0), (-0.066176504, 0.0)], 'WilsRu00': [(286.7024, 339.0), (448.80115, 553.0), (3452.5237, 3983.0), (21.151388, 34.0), (8.124129, 11.0), (72.91178, 95.0), (287.69385, 586.0), (-0.066452235, 3.0)], 'WentCa00': [(307.9372, 265.0), (497.74277, 440.0), (3120.591, 3296.0), (13.399103, 33.0), (11.052911, 7.0), (43.61978, 64.0), (140.20349, 299.0), (1.5684631, 0.0)], 'BreeDr00': [(378.81348, 386.0), (553.47516, 536.0), (4219.1494, 4334.0), (29.689837, 23.0), (13.468362, 8.0), (23.96283, 33.0), (18.579546, 12.000002), (1.9152533, 2.0)], 'RodgAa00': [(343.13846, 154.0), (526.2547, 238.0), (3702.8198, 1675.0), (26.88888, 16.0), (5.68686, 6.0), (57.521248, 24.0), (275.85687, 126.0), (2.370225, 0.0)]}\n"
     ]
    }
   ],
   "source": [
    "%run -i baseline.py QB"
   ]
  },
  {
   "cell_type": "markdown",
   "metadata": {},
   "source": [
    "Nix Team Rank\n",
    "Change Position to binary values (pd.get_dummies)\n",
    "Age should be years in the league\n",
    "Get rid of receiving statistics\n",
    "Don't use complex statistics\n",
    "Take out position rank"
   ]
  },
  {
   "cell_type": "code",
   "execution_count": 48,
   "metadata": {},
   "outputs": [
    {
     "name": "stdout",
     "output_type": "stream",
     "text": [
      "Cmp 2.6960317678220282 No. Skipped: 4\n",
      "Att 2.8816374608856132 No. Skipped: 2\n",
      "Yds 3.208999545373856 No. Skipped: 4\n"
     ]
    },
    {
     "ename": "LinAlgError",
     "evalue": "Non-positive-definite forecast error covariance matrix encountered at period 2",
     "output_type": "error",
     "traceback": [
      "\u001b[0;31m---------------------------------------------------------------------------\u001b[0m",
      "\u001b[0;31mZeroDivisionError\u001b[0m                         Traceback (most recent call last)",
      "\u001b[0;32mstatsmodels/tsa/statespace/_statespace.pyx\u001b[0m in \u001b[0;36mstatsmodels.tsa.statespace._statespace.dinverse_univariate (statsmodels/tsa/statespace/_statespace.c:23566)\u001b[0;34m()\u001b[0m\n",
      "\u001b[0;31mZeroDivisionError\u001b[0m: float division",
      "\nDuring handling of the above exception, another exception occurred:\n",
      "\u001b[0;31mLinAlgError\u001b[0m                               Traceback (most recent call last)",
      "\u001b[0;32m~/Documents/FFThesis/arima.py\u001b[0m in \u001b[0;36m<module>\u001b[0;34m()\u001b[0m\n\u001b[1;32m     35\u001b[0m             \u001b[0marima\u001b[0m \u001b[0;34m=\u001b[0m \u001b[0msm\u001b[0m\u001b[0;34m.\u001b[0m\u001b[0mtsa\u001b[0m\u001b[0;34m.\u001b[0m\u001b[0mstatespace\u001b[0m\u001b[0;34m.\u001b[0m\u001b[0mSARIMAX\u001b[0m\u001b[0;34m(\u001b[0m\u001b[0mtime\u001b[0m\u001b[0;34m,\u001b[0m \u001b[0morder\u001b[0m\u001b[0;34m=\u001b[0m\u001b[0;34m(\u001b[0m\u001b[0;36m1\u001b[0m\u001b[0;34m,\u001b[0m\u001b[0;36m1\u001b[0m\u001b[0;34m,\u001b[0m\u001b[0;36m1\u001b[0m\u001b[0;34m)\u001b[0m\u001b[0;34m,\u001b[0m \u001b[0menforce_stationarity\u001b[0m\u001b[0;34m=\u001b[0m\u001b[0;32mFalse\u001b[0m\u001b[0;34m,\u001b[0m \u001b[0menforce_invertibility\u001b[0m\u001b[0;34m=\u001b[0m\u001b[0;32mFalse\u001b[0m\u001b[0;34m)\u001b[0m\u001b[0;34m\u001b[0m\u001b[0m\n\u001b[1;32m     36\u001b[0m \u001b[0;34m\u001b[0m\u001b[0m\n\u001b[0;32m---> 37\u001b[0;31m             \u001b[0mfit\u001b[0m \u001b[0;34m=\u001b[0m \u001b[0marima\u001b[0m\u001b[0;34m.\u001b[0m\u001b[0mfit\u001b[0m\u001b[0;34m(\u001b[0m\u001b[0mdisp\u001b[0m\u001b[0;34m=\u001b[0m\u001b[0;36m0\u001b[0m\u001b[0;34m)\u001b[0m\u001b[0;34m\u001b[0m\u001b[0m\n\u001b[0m\u001b[1;32m     38\u001b[0m             \u001b[0;31m# print fit.summary()\u001b[0m\u001b[0;34m\u001b[0m\u001b[0;34m\u001b[0m\u001b[0m\n\u001b[1;32m     39\u001b[0m             \u001b[0;31m# print (fit.forecast())\u001b[0m\u001b[0;34m\u001b[0m\u001b[0;34m\u001b[0m\u001b[0m\n",
      "\u001b[0;32m/usr/lib/python3.6/site-packages/statsmodels/tsa/statespace/mlemodel.py\u001b[0m in \u001b[0;36mfit\u001b[0;34m(self, start_params, transformed, cov_type, cov_kwds, method, maxiter, full_output, disp, callback, return_params, optim_score, optim_complex_step, optim_hessian, **kwargs)\u001b[0m\n\u001b[1;32m    444\u001b[0m                                            \u001b[0mfull_output\u001b[0m\u001b[0;34m=\u001b[0m\u001b[0mfull_output\u001b[0m\u001b[0;34m,\u001b[0m\u001b[0;34m\u001b[0m\u001b[0m\n\u001b[1;32m    445\u001b[0m                                            \u001b[0mdisp\u001b[0m\u001b[0;34m=\u001b[0m\u001b[0mdisp\u001b[0m\u001b[0;34m,\u001b[0m \u001b[0mcallback\u001b[0m\u001b[0;34m=\u001b[0m\u001b[0mcallback\u001b[0m\u001b[0;34m,\u001b[0m\u001b[0;34m\u001b[0m\u001b[0m\n\u001b[0;32m--> 446\u001b[0;31m                                            skip_hessian=True, **kwargs)\n\u001b[0m\u001b[1;32m    447\u001b[0m \u001b[0;34m\u001b[0m\u001b[0m\n\u001b[1;32m    448\u001b[0m         \u001b[0;31m# Just return the fitted parameters if requested\u001b[0m\u001b[0;34m\u001b[0m\u001b[0;34m\u001b[0m\u001b[0m\n",
      "\u001b[0;32m/usr/lib/python3.6/site-packages/statsmodels/base/model.py\u001b[0m in \u001b[0;36mfit\u001b[0;34m(self, start_params, method, maxiter, full_output, disp, fargs, callback, retall, skip_hessian, **kwargs)\u001b[0m\n\u001b[1;32m    449\u001b[0m                                                        \u001b[0mcallback\u001b[0m\u001b[0;34m=\u001b[0m\u001b[0mcallback\u001b[0m\u001b[0;34m,\u001b[0m\u001b[0;34m\u001b[0m\u001b[0m\n\u001b[1;32m    450\u001b[0m                                                        \u001b[0mretall\u001b[0m\u001b[0;34m=\u001b[0m\u001b[0mretall\u001b[0m\u001b[0;34m,\u001b[0m\u001b[0;34m\u001b[0m\u001b[0m\n\u001b[0;32m--> 451\u001b[0;31m                                                        full_output=full_output)\n\u001b[0m\u001b[1;32m    452\u001b[0m \u001b[0;34m\u001b[0m\u001b[0m\n\u001b[1;32m    453\u001b[0m         \u001b[0;31m#NOTE: this is for fit_regularized and should be generalized\u001b[0m\u001b[0;34m\u001b[0m\u001b[0;34m\u001b[0m\u001b[0m\n",
      "\u001b[0;32m/usr/lib/python3.6/site-packages/statsmodels/base/optimizer.py\u001b[0m in \u001b[0;36m_fit\u001b[0;34m(self, objective, gradient, start_params, fargs, kwargs, hessian, method, maxiter, full_output, disp, callback, retall)\u001b[0m\n\u001b[1;32m    182\u001b[0m                             \u001b[0mdisp\u001b[0m\u001b[0;34m=\u001b[0m\u001b[0mdisp\u001b[0m\u001b[0;34m,\u001b[0m \u001b[0mmaxiter\u001b[0m\u001b[0;34m=\u001b[0m\u001b[0mmaxiter\u001b[0m\u001b[0;34m,\u001b[0m \u001b[0mcallback\u001b[0m\u001b[0;34m=\u001b[0m\u001b[0mcallback\u001b[0m\u001b[0;34m,\u001b[0m\u001b[0;34m\u001b[0m\u001b[0m\n\u001b[1;32m    183\u001b[0m                             \u001b[0mretall\u001b[0m\u001b[0;34m=\u001b[0m\u001b[0mretall\u001b[0m\u001b[0;34m,\u001b[0m \u001b[0mfull_output\u001b[0m\u001b[0;34m=\u001b[0m\u001b[0mfull_output\u001b[0m\u001b[0;34m,\u001b[0m\u001b[0;34m\u001b[0m\u001b[0m\n\u001b[0;32m--> 184\u001b[0;31m                             hess=hessian)\n\u001b[0m\u001b[1;32m    185\u001b[0m \u001b[0;34m\u001b[0m\u001b[0m\n\u001b[1;32m    186\u001b[0m         optim_settings = {'optimizer': method, 'start_params': start_params,\n",
      "\u001b[0;32m/usr/lib/python3.6/site-packages/statsmodels/base/optimizer.py\u001b[0m in \u001b[0;36m_fit_lbfgs\u001b[0;34m(f, score, start_params, fargs, kwargs, disp, maxiter, callback, retall, full_output, hess)\u001b[0m\n\u001b[1;32m    376\u001b[0m                                          \u001b[0mcallback\u001b[0m\u001b[0;34m=\u001b[0m\u001b[0mcallback\u001b[0m\u001b[0;34m,\u001b[0m \u001b[0margs\u001b[0m\u001b[0;34m=\u001b[0m\u001b[0mfargs\u001b[0m\u001b[0;34m,\u001b[0m\u001b[0;34m\u001b[0m\u001b[0m\n\u001b[1;32m    377\u001b[0m                                          \u001b[0mbounds\u001b[0m\u001b[0;34m=\u001b[0m\u001b[0mbounds\u001b[0m\u001b[0;34m,\u001b[0m \u001b[0mdisp\u001b[0m\u001b[0;34m=\u001b[0m\u001b[0mdisp\u001b[0m\u001b[0;34m,\u001b[0m\u001b[0;34m\u001b[0m\u001b[0m\n\u001b[0;32m--> 378\u001b[0;31m                                          **extra_kwargs)\n\u001b[0m\u001b[1;32m    379\u001b[0m \u001b[0;34m\u001b[0m\u001b[0m\n\u001b[1;32m    380\u001b[0m     \u001b[0;32mif\u001b[0m \u001b[0mfull_output\u001b[0m\u001b[0;34m:\u001b[0m\u001b[0;34m\u001b[0m\u001b[0m\n",
      "\u001b[0;32m/usr/lib/python3.6/site-packages/scipy/optimize/lbfgsb.py\u001b[0m in \u001b[0;36mfmin_l_bfgs_b\u001b[0;34m(func, x0, fprime, args, approx_grad, bounds, m, factr, pgtol, epsilon, iprint, maxfun, maxiter, disp, callback, maxls)\u001b[0m\n\u001b[1;32m    197\u001b[0m \u001b[0;34m\u001b[0m\u001b[0m\n\u001b[1;32m    198\u001b[0m     res = _minimize_lbfgsb(fun, x0, args=args, jac=jac, bounds=bounds,\n\u001b[0;32m--> 199\u001b[0;31m                            **opts)\n\u001b[0m\u001b[1;32m    200\u001b[0m     d = {'grad': res['jac'],\n\u001b[1;32m    201\u001b[0m          \u001b[0;34m'task'\u001b[0m\u001b[0;34m:\u001b[0m \u001b[0mres\u001b[0m\u001b[0;34m[\u001b[0m\u001b[0;34m'message'\u001b[0m\u001b[0;34m]\u001b[0m\u001b[0;34m,\u001b[0m\u001b[0;34m\u001b[0m\u001b[0m\n",
      "\u001b[0;32m/usr/lib/python3.6/site-packages/scipy/optimize/lbfgsb.py\u001b[0m in \u001b[0;36m_minimize_lbfgsb\u001b[0;34m(fun, x0, args, jac, bounds, disp, maxcor, ftol, gtol, eps, maxfun, maxiter, iprint, callback, maxls, **unknown_options)\u001b[0m\n\u001b[1;32m    333\u001b[0m             \u001b[0;31m# until the completion of the current minimization iteration.\u001b[0m\u001b[0;34m\u001b[0m\u001b[0;34m\u001b[0m\u001b[0m\n\u001b[1;32m    334\u001b[0m             \u001b[0;31m# Overwrite f and g:\u001b[0m\u001b[0;34m\u001b[0m\u001b[0;34m\u001b[0m\u001b[0m\n\u001b[0;32m--> 335\u001b[0;31m             \u001b[0mf\u001b[0m\u001b[0;34m,\u001b[0m \u001b[0mg\u001b[0m \u001b[0;34m=\u001b[0m \u001b[0mfunc_and_grad\u001b[0m\u001b[0;34m(\u001b[0m\u001b[0mx\u001b[0m\u001b[0;34m)\u001b[0m\u001b[0;34m\u001b[0m\u001b[0m\n\u001b[0m\u001b[1;32m    336\u001b[0m         \u001b[0;32melif\u001b[0m \u001b[0mtask_str\u001b[0m\u001b[0;34m.\u001b[0m\u001b[0mstartswith\u001b[0m\u001b[0;34m(\u001b[0m\u001b[0;34mb'NEW_X'\u001b[0m\u001b[0;34m)\u001b[0m\u001b[0;34m:\u001b[0m\u001b[0;34m\u001b[0m\u001b[0m\n\u001b[1;32m    337\u001b[0m             \u001b[0;31m# new iteration\u001b[0m\u001b[0;34m\u001b[0m\u001b[0;34m\u001b[0m\u001b[0m\n",
      "\u001b[0;32m/usr/lib/python3.6/site-packages/scipy/optimize/lbfgsb.py\u001b[0m in \u001b[0;36mfunc_and_grad\u001b[0;34m(x)\u001b[0m\n\u001b[1;32m    278\u001b[0m     \u001b[0;32mif\u001b[0m \u001b[0mjac\u001b[0m \u001b[0;32mis\u001b[0m \u001b[0;32mNone\u001b[0m\u001b[0;34m:\u001b[0m\u001b[0;34m\u001b[0m\u001b[0m\n\u001b[1;32m    279\u001b[0m         \u001b[0;32mdef\u001b[0m \u001b[0mfunc_and_grad\u001b[0m\u001b[0;34m(\u001b[0m\u001b[0mx\u001b[0m\u001b[0;34m)\u001b[0m\u001b[0;34m:\u001b[0m\u001b[0;34m\u001b[0m\u001b[0m\n\u001b[0;32m--> 280\u001b[0;31m             \u001b[0mf\u001b[0m \u001b[0;34m=\u001b[0m \u001b[0mfun\u001b[0m\u001b[0;34m(\u001b[0m\u001b[0mx\u001b[0m\u001b[0;34m,\u001b[0m \u001b[0;34m*\u001b[0m\u001b[0margs\u001b[0m\u001b[0;34m)\u001b[0m\u001b[0;34m\u001b[0m\u001b[0m\n\u001b[0m\u001b[1;32m    281\u001b[0m             \u001b[0mg\u001b[0m \u001b[0;34m=\u001b[0m \u001b[0m_approx_fprime_helper\u001b[0m\u001b[0;34m(\u001b[0m\u001b[0mx\u001b[0m\u001b[0;34m,\u001b[0m \u001b[0mfun\u001b[0m\u001b[0;34m,\u001b[0m \u001b[0mepsilon\u001b[0m\u001b[0;34m,\u001b[0m \u001b[0margs\u001b[0m\u001b[0;34m=\u001b[0m\u001b[0margs\u001b[0m\u001b[0;34m,\u001b[0m \u001b[0mf0\u001b[0m\u001b[0;34m=\u001b[0m\u001b[0mf\u001b[0m\u001b[0;34m)\u001b[0m\u001b[0;34m\u001b[0m\u001b[0m\n\u001b[1;32m    282\u001b[0m             \u001b[0;32mreturn\u001b[0m \u001b[0mf\u001b[0m\u001b[0;34m,\u001b[0m \u001b[0mg\u001b[0m\u001b[0;34m\u001b[0m\u001b[0m\n",
      "\u001b[0;32m/usr/lib/python3.6/site-packages/scipy/optimize/optimize.py\u001b[0m in \u001b[0;36mfunction_wrapper\u001b[0;34m(*wrapper_args)\u001b[0m\n\u001b[1;32m    291\u001b[0m     \u001b[0;32mdef\u001b[0m \u001b[0mfunction_wrapper\u001b[0m\u001b[0;34m(\u001b[0m\u001b[0;34m*\u001b[0m\u001b[0mwrapper_args\u001b[0m\u001b[0;34m)\u001b[0m\u001b[0;34m:\u001b[0m\u001b[0;34m\u001b[0m\u001b[0m\n\u001b[1;32m    292\u001b[0m         \u001b[0mncalls\u001b[0m\u001b[0;34m[\u001b[0m\u001b[0;36m0\u001b[0m\u001b[0;34m]\u001b[0m \u001b[0;34m+=\u001b[0m \u001b[0;36m1\u001b[0m\u001b[0;34m\u001b[0m\u001b[0m\n\u001b[0;32m--> 293\u001b[0;31m         \u001b[0;32mreturn\u001b[0m \u001b[0mfunction\u001b[0m\u001b[0;34m(\u001b[0m\u001b[0;34m*\u001b[0m\u001b[0;34m(\u001b[0m\u001b[0mwrapper_args\u001b[0m \u001b[0;34m+\u001b[0m \u001b[0margs\u001b[0m\u001b[0;34m)\u001b[0m\u001b[0;34m)\u001b[0m\u001b[0;34m\u001b[0m\u001b[0m\n\u001b[0m\u001b[1;32m    294\u001b[0m \u001b[0;34m\u001b[0m\u001b[0m\n\u001b[1;32m    295\u001b[0m     \u001b[0;32mreturn\u001b[0m \u001b[0mncalls\u001b[0m\u001b[0;34m,\u001b[0m \u001b[0mfunction_wrapper\u001b[0m\u001b[0;34m\u001b[0m\u001b[0m\n",
      "\u001b[0;32m/usr/lib/python3.6/site-packages/statsmodels/base/model.py\u001b[0m in \u001b[0;36m<lambda>\u001b[0;34m(params, *args)\u001b[0m\n\u001b[1;32m    427\u001b[0m \u001b[0;34m\u001b[0m\u001b[0m\n\u001b[1;32m    428\u001b[0m         \u001b[0mnobs\u001b[0m \u001b[0;34m=\u001b[0m \u001b[0mself\u001b[0m\u001b[0;34m.\u001b[0m\u001b[0mendog\u001b[0m\u001b[0;34m.\u001b[0m\u001b[0mshape\u001b[0m\u001b[0;34m[\u001b[0m\u001b[0;36m0\u001b[0m\u001b[0;34m]\u001b[0m\u001b[0;34m\u001b[0m\u001b[0m\n\u001b[0;32m--> 429\u001b[0;31m         \u001b[0mf\u001b[0m \u001b[0;34m=\u001b[0m \u001b[0;32mlambda\u001b[0m \u001b[0mparams\u001b[0m\u001b[0;34m,\u001b[0m \u001b[0;34m*\u001b[0m\u001b[0margs\u001b[0m\u001b[0;34m:\u001b[0m \u001b[0;34m-\u001b[0m\u001b[0mself\u001b[0m\u001b[0;34m.\u001b[0m\u001b[0mloglike\u001b[0m\u001b[0;34m(\u001b[0m\u001b[0mparams\u001b[0m\u001b[0;34m,\u001b[0m \u001b[0;34m*\u001b[0m\u001b[0margs\u001b[0m\u001b[0;34m)\u001b[0m \u001b[0;34m/\u001b[0m \u001b[0mnobs\u001b[0m\u001b[0;34m\u001b[0m\u001b[0m\n\u001b[0m\u001b[1;32m    430\u001b[0m         \u001b[0mscore\u001b[0m \u001b[0;34m=\u001b[0m \u001b[0;32mlambda\u001b[0m \u001b[0mparams\u001b[0m\u001b[0;34m,\u001b[0m \u001b[0;34m*\u001b[0m\u001b[0margs\u001b[0m\u001b[0;34m:\u001b[0m \u001b[0;34m-\u001b[0m\u001b[0mself\u001b[0m\u001b[0;34m.\u001b[0m\u001b[0mscore\u001b[0m\u001b[0;34m(\u001b[0m\u001b[0mparams\u001b[0m\u001b[0;34m,\u001b[0m \u001b[0;34m*\u001b[0m\u001b[0margs\u001b[0m\u001b[0;34m)\u001b[0m \u001b[0;34m/\u001b[0m \u001b[0mnobs\u001b[0m\u001b[0;34m\u001b[0m\u001b[0m\n\u001b[1;32m    431\u001b[0m         \u001b[0;32mtry\u001b[0m\u001b[0;34m:\u001b[0m\u001b[0;34m\u001b[0m\u001b[0m\n",
      "\u001b[0;32m/usr/lib/python3.6/site-packages/statsmodels/tsa/statespace/mlemodel.py\u001b[0m in \u001b[0;36mloglike\u001b[0;34m(self, params, *args, **kwargs)\u001b[0m\n\u001b[1;32m    640\u001b[0m             \u001b[0mkwargs\u001b[0m\u001b[0;34m[\u001b[0m\u001b[0;34m'inversion_method'\u001b[0m\u001b[0;34m]\u001b[0m \u001b[0;34m=\u001b[0m \u001b[0mINVERT_UNIVARIATE\u001b[0m \u001b[0;34m|\u001b[0m \u001b[0mSOLVE_LU\u001b[0m\u001b[0;34m\u001b[0m\u001b[0m\n\u001b[1;32m    641\u001b[0m \u001b[0;34m\u001b[0m\u001b[0m\n\u001b[0;32m--> 642\u001b[0;31m         \u001b[0mloglike\u001b[0m \u001b[0;34m=\u001b[0m \u001b[0mself\u001b[0m\u001b[0;34m.\u001b[0m\u001b[0mssm\u001b[0m\u001b[0;34m.\u001b[0m\u001b[0mloglike\u001b[0m\u001b[0;34m(\u001b[0m\u001b[0mcomplex_step\u001b[0m\u001b[0;34m=\u001b[0m\u001b[0mcomplex_step\u001b[0m\u001b[0;34m,\u001b[0m \u001b[0;34m**\u001b[0m\u001b[0mkwargs\u001b[0m\u001b[0;34m)\u001b[0m\u001b[0;34m\u001b[0m\u001b[0m\n\u001b[0m\u001b[1;32m    643\u001b[0m \u001b[0;34m\u001b[0m\u001b[0m\n\u001b[1;32m    644\u001b[0m         \u001b[0;31m# Koopman, Shephard, and Doornik recommend maximizing the average\u001b[0m\u001b[0;34m\u001b[0m\u001b[0;34m\u001b[0m\u001b[0m\n",
      "\u001b[0;32m/usr/lib/python3.6/site-packages/statsmodels/tsa/statespace/kalman_filter.py\u001b[0m in \u001b[0;36mloglike\u001b[0;34m(self, loglikelihood_burn, **kwargs)\u001b[0m\n\u001b[1;32m    684\u001b[0m             \u001b[0mloglikelihood_burn\u001b[0m \u001b[0;34m=\u001b[0m \u001b[0mself\u001b[0m\u001b[0;34m.\u001b[0m\u001b[0mloglikelihood_burn\u001b[0m\u001b[0;34m\u001b[0m\u001b[0m\n\u001b[1;32m    685\u001b[0m         \u001b[0mkwargs\u001b[0m\u001b[0;34m[\u001b[0m\u001b[0;34m'results'\u001b[0m\u001b[0;34m]\u001b[0m \u001b[0;34m=\u001b[0m \u001b[0;34m'loglikelihood'\u001b[0m\u001b[0;34m\u001b[0m\u001b[0m\n\u001b[0;32m--> 686\u001b[0;31m         \u001b[0;32mreturn\u001b[0m \u001b[0mnp\u001b[0m\u001b[0;34m.\u001b[0m\u001b[0msum\u001b[0m\u001b[0;34m(\u001b[0m\u001b[0mself\u001b[0m\u001b[0;34m.\u001b[0m\u001b[0mfilter\u001b[0m\u001b[0;34m(\u001b[0m\u001b[0;34m**\u001b[0m\u001b[0mkwargs\u001b[0m\u001b[0;34m)\u001b[0m\u001b[0;34m[\u001b[0m\u001b[0mloglikelihood_burn\u001b[0m\u001b[0;34m:\u001b[0m\u001b[0;34m]\u001b[0m\u001b[0;34m)\u001b[0m\u001b[0;34m\u001b[0m\u001b[0m\n\u001b[0m\u001b[1;32m    687\u001b[0m \u001b[0;34m\u001b[0m\u001b[0m\n\u001b[1;32m    688\u001b[0m     \u001b[0;32mdef\u001b[0m \u001b[0mloglikeobs\u001b[0m\u001b[0;34m(\u001b[0m\u001b[0mself\u001b[0m\u001b[0;34m,\u001b[0m \u001b[0mloglikelihood_burn\u001b[0m\u001b[0;34m=\u001b[0m\u001b[0;32mNone\u001b[0m\u001b[0;34m,\u001b[0m \u001b[0;34m**\u001b[0m\u001b[0mkwargs\u001b[0m\u001b[0;34m)\u001b[0m\u001b[0;34m:\u001b[0m\u001b[0;34m\u001b[0m\u001b[0m\n",
      "\u001b[0;32m/usr/lib/python3.6/site-packages/statsmodels/tsa/statespace/kalman_filter.py\u001b[0m in \u001b[0;36mfilter\u001b[0;34m(self, filter_method, inversion_method, stability_method, conserve_memory, tolerance, loglikelihood_burn, results, complex_step)\u001b[0m\n\u001b[1;32m    643\u001b[0m \u001b[0;34m\u001b[0m\u001b[0m\n\u001b[1;32m    644\u001b[0m         \u001b[0;31m# Run the filter\u001b[0m\u001b[0;34m\u001b[0m\u001b[0;34m\u001b[0m\u001b[0m\n\u001b[0;32m--> 645\u001b[0;31m         \u001b[0mkfilter\u001b[0m\u001b[0;34m(\u001b[0m\u001b[0;34m)\u001b[0m\u001b[0;34m\u001b[0m\u001b[0m\n\u001b[0m\u001b[1;32m    646\u001b[0m \u001b[0;34m\u001b[0m\u001b[0m\n\u001b[1;32m    647\u001b[0m         \u001b[0;31m# We may just want the loglikelihood\u001b[0m\u001b[0;34m\u001b[0m\u001b[0;34m\u001b[0m\u001b[0m\n",
      "\u001b[0;32mstatsmodels/tsa/statespace/_statespace.pyx\u001b[0m in \u001b[0;36mstatsmodels.tsa.statespace._statespace.dKalmanFilter.__call__ (statsmodels/tsa/statespace/_statespace.c:26923)\u001b[0;34m()\u001b[0m\n",
      "\u001b[0;32mstatsmodels/tsa/statespace/_statespace.pyx\u001b[0m in \u001b[0;36mstatsmodels.tsa.statespace._statespace.dKalmanFilter.__next__ (statsmodels/tsa/statespace/_statespace.c:27091)\u001b[0;34m()\u001b[0m\n",
      "\u001b[0;32mstatsmodels/tsa/statespace/_statespace.pyx\u001b[0m in \u001b[0;36mstatsmodels.tsa.statespace._statespace.dinverse_univariate (statsmodels/tsa/statespace/_statespace.c:23675)\u001b[0;34m()\u001b[0m\n",
      "\u001b[0;31mLinAlgError\u001b[0m: Non-positive-definite forecast error covariance matrix encountered at period 2"
     ]
    }
   ],
   "source": [
    "%run -i arima.py QB"
   ]
  },
  {
   "cell_type": "code",
   "execution_count": 18,
   "metadata": {},
   "outputs": [
    {
     "name": "stderr",
     "output_type": "stream",
     "text": [
      "/usr/lib/python3.6/site-packages/tensorflow/python/client/session.py:1711: UserWarning: An interactive session is already active. This can cause out-of-memory errors in some cases. You must explicitly call `InteractiveSession.close()` to release resources held by the other session(s).\n",
      "  warnings.warn('An interactive session is already active. This can '\n"
     ]
    },
    {
     "name": "stdout",
     "output_type": "stream",
     "text": [
      "Cmp 0.16461766 38.950905\n",
      "Att 0.15925847 63.98393\n",
      "Yds 0.14356598 431.60547\n",
      "TD 0.15526605 2.842929\n",
      "Int 0.25317508 2.082314\n",
      "RAtt 0.14276943 6.7552853\n",
      "RYds 0.0920957 34.97002\n",
      "RTD 0.21917365 0.46318424\n",
      "0.16624025255441666 {'BradTo00': [(363.91217041015625, 385.0), (542.8099975585938, 581.0), (4182.52783203125, 4576.99951171875), (31.767858505249023, 32.0), (3.3155465126037598, 8.0), (31.422496795654297, 25.0), (17.429336547851562, 28.0), (0.3002369999885559, 0.0)], 'WilsRu00': [(236.30836486816406, 339.0), (346.7433776855469, 553.0), (3066.761474609375, 3983.0), (26.281034469604492, 34.0), (4.159540176391602, 11.0), (84.46048736572266, 95.0), (313.82757568359375, 586.0), (0.9257071018218994, 3.0)], 'WentCa00': [(348.4937438964844, 265.0), (587.9187622070312, 440.0), (3426.140625, 3296.0), (12.103995323181152, 33.0), (11.593037605285645, 7.0), (42.921043395996094, 64.0), (96.9036865234375, 299.0), (1.6942498683929443, 0.0)], 'BreeDr00': [(387.9940490722656, 386.0), (619.8632202148438, 536.0), (4388.912109375, 4334.0), (33.407691955566406, 23.0), (13.369329452514648, 8.0), (16.959091186523438, 33.0), (17.14531135559082, 12.000001907348633), (0.22227463126182556, 2.0)], 'RodgAa00': [(273.5779724121094, 154.0), (426.46588134765625, 238.0), (3558.6845703125, 1675.0), (29.333396911621094, 16.0), (4.4982123374938965, 6.0), (53.55051040649414, 24.0), (357.7601623535156, 126.0), (3.2919111251831055, 0.0)]}\n"
     ]
    }
   ],
   "source": [
    "%run -i rnn.py QB"
   ]
  },
  {
   "cell_type": "code",
   "execution_count": 4,
   "metadata": {},
   "outputs": [
    {
     "name": "stdout",
     "output_type": "stream",
     "text": [
      "{'fit_intercept': False} Cmp 0.05383619216007046 15.51272384047771\n",
      "{'fit_intercept': False} Att 0.053818829030547674 24.42410685235748\n",
      "{'fit_intercept': False} Yds 0.05899551412936768 173.23221973205924\n",
      "{'fit_intercept': False} TD 0.11431111576972267 1.7121247004217002\n",
      "{'fit_intercept': False} Int 0.18538168013858652 1.2207108364195174\n",
      "{'fit_intercept': False} RAtt 0.12970392543730302 3.7317147902651815\n",
      "{'fit_intercept': False} RYds 0.1843305369715398 23.67768996429395\n",
      "{'fit_intercept': False} RTD 0.4599007955386968 0.3861078254051036\n",
      "0.15503482364697935 {'BradTo00': [(333.10515652876865, 385.0), (524.4870471902827, 581.0), (3790.8752214191654, 4577.0), (22.477894993570295, 32.0), (11.544535311050772, 8.0), (33.908855218461454, 25.0), (114.15258894534539, 28.0), (1.2149939125492621, 1.0408340855860843e-17)], 'WilsRu00': [(302.0121971282999, 339.0), (493.91423853587935, 553.0), (3528.0945563853793, 3983.0), (22.142967638464132, 34.0), (11.421232535182673, 11.0), (66.52701494276198, 95.0), (348.43608102400265, 586.0), (2.6719220763577924, 3.0)], 'WentCa00': [(272.70525090564865, 265.0), (445.0467115460136, 440.0), (3181.474933126855, 3296.0), (19.762977762273984, 33.0), (10.266001861059673, 7.0), (50.33322289325855, 64.0), (238.12488271128467, 299.0), (1.6745155058509387, 1.0408340855860843e-17)], 'BreeDr00': [(333.1069582694939, 386.0), (519.2275846913088, 536.0), (3798.590532052075, 4334.0), (22.145473439771525, 23.0), (9.888799354311722, 8.0), (33.40955373354332, 33.0), (118.97798895207838, 12.0), (1.3346052919306794, 2.0)], 'RodgAa00': [(158.79948572781194, 154.0), (253.27691848006205, 238.0), (1810.105569549288, 1675.0), (11.195090461965002, 16.0), (5.830934729305431, 6.0), (25.484165585149157, 24.0), (104.41207975566036, 126.0), (0.9613749482993375, 1.0408340855860843e-17)]}\n"
     ]
    }
   ],
   "source": [
    "%run -i complexlr.py QB"
   ]
  },
  {
   "cell_type": "code",
   "execution_count": 5,
   "metadata": {},
   "outputs": [
    {
     "name": "stdout",
     "output_type": "stream",
     "text": [
      "{'alpha': 0.05, 'fit_intercept': False} Cmp 0.06434718120772681 19.416214848600315\n",
      "{'alpha': 0.05, 'fit_intercept': False} Att 0.06320538482683251 31.24677915926037\n",
      "{'alpha': 0.05, 'fit_intercept': False} Yds 0.06936524126280673 219.43064331742775\n",
      "{'alpha': 0.05, 'fit_intercept': False} TD 0.13896839671676167 2.011318507632153\n",
      "{'alpha': 0.05, 'fit_intercept': False} Int 0.21150172004027964 1.3786278289473666\n",
      "{'alpha': 0.05, 'fit_intercept': False} RAtt 0.15826020604790253 4.325501023947313\n",
      "{'alpha': 0.01, 'fit_intercept': False} RYds 0.1892671788236778 24.227404661968524\n",
      "{'alpha': 0.05, 'fit_intercept': False} RTD 0.5145264538722375 0.43063714491332716\n",
      "0.17618022034977815 {'BradTo00': [(314.6650865437779, 385.0), (498.56020074676485, 581.0), (3590.8988820664035, 4577.0), (20.956346275603813, 32.0), (10.659962791673774, 8.0), (32.27674153708344, 25.0), (110.11494808896711, 28.0), (1.059471903539248, 1.0408340855860843e-17)], 'WilsRu00': [(292.6220450617918, 339.0), (471.3150320709829, 553.0), (3384.5841368639512, 3983.0), (20.602584383468674, 34.0), (10.165163685475388, 11.0), (61.724877412910445, 95.0), (342.877740679401, 586.0), (2.3509412600821658, 3.0)], 'WentCa00': [(254.3003157925403, 265.0), (411.18772223659266, 440.0), (2939.088225338235, 3296.0), (17.682277593566646, 33.0), (8.876780188505013, 7.0), (46.790523582852046, 64.0), (232.96471971628443, 299.0), (1.5623074576870635, 1.0408340855860843e-17)], 'BreeDr00': [(311.4908685624406, 386.0), (485.65235876343866, 536.0), (3541.4826071526604, 4334.0), (20.709209183137375, 23.0), (10.190000430480023, 8.0), (32.70692307355529, 33.0), (116.88813489873168, 12.0), (1.0383895835455337, 2.0)], 'RodgAa00': [(155.71153289369514, 154.0), (247.26521397803162, 238.0), (1776.5691028758336, 1675.0), (10.736187442898508, 16.0), (5.382743092252397, 6.0), (24.09875768836873, 24.0), (104.27493184563656, 126.0), (0.9134963737789921, 1.0408340855860843e-17)]}\n"
     ]
    }
   ],
   "source": [
    "%run -i complexlar.py QB"
   ]
  },
  {
   "cell_type": "code",
   "execution_count": 6,
   "metadata": {},
   "outputs": [
    {
     "name": "stdout",
     "output_type": "stream",
     "text": [
      "{'alpha': 0.99, 'fit_intercept': False} Cmp 0.053824394894103234 15.516726363315481\n",
      "{'alpha': 0.99, 'fit_intercept': False} Att 0.05381620050194699 24.42815367767163\n",
      "{'alpha': 0.99, 'fit_intercept': False} Yds 0.05896550009987866 173.26269855300578\n",
      "{'alpha': 0.99, 'fit_intercept': False} TD 0.11430078784704982 1.7124127983936157\n",
      "{'alpha': 0.99, 'fit_intercept': False} Int 0.18533158105983127 1.2206350219316908\n",
      "{'alpha': 0.99, 'fit_intercept': False} RAtt 0.12970340699269298 3.7323003053155235\n",
      "{'alpha': 0.99, 'fit_intercept': False} RYds 0.18439076708405905 23.683935399462896\n",
      "{'alpha': 0.99, 'fit_intercept': False} RTD 0.46008714612719104 0.3861656039523077\n",
      "0.15505247307584413 {'BradTo00': [(333.1423708306262, 385.0), (524.614528143724, 581.0), (3791.2678242668608, 4577.0), (22.47512122088337, 32.0), (11.548974216920065, 8.0), (33.933163805782904, 25.0), (114.17611129154092, 28.0), (1.2138353025266695, 1.0408340855860843e-17)], 'WilsRu00': [(302.0344095272859, 339.0), (493.9512689936207, 553.0), (3528.34793590466, 3983.0), (22.14437646390487, 34.0), (11.419405441616844, 11.0), (66.51447461091577, 95.0), (348.38028981565037, 586.0), (2.671706023854018, 3.0)], 'WentCa00': [(272.6263817673471, 265.0), (444.7575948145527, 440.0), (3180.4672004426952, 3296.0), (19.765995943773323, 33.0), (10.246615904999153, 7.0), (50.28188055865551, 64.0), (238.01796370482822, 299.0), (1.676743242312285, 1.0408340855860843e-17)], 'BreeDr00': [(333.2512311712209, 386.0), (519.8474398320781, 536.0), (3800.354443739319, 4334.0), (22.130823997452097, 23.0), (9.932668560380872, 8.0), (33.50194773048749, 33.0), (119.10863783891128, 12.0), (1.3293255161343351, 2.0)], 'RodgAa00': [(158.8160611356997, 154.0), (253.38211393099178, 238.0), (1810.41717351111, 1675.0), (11.192196118612703, 16.0), (5.8383207366138885, 6.0), (25.495836265866664, 24.0), (104.44155555638682, 126.0), (0.9603707810719363, 1.0408340855860843e-17)]}\n"
     ]
    }
   ],
   "source": [
    "%run -i complexrr.py QB"
   ]
  },
  {
   "cell_type": "code",
   "execution_count": 7,
   "metadata": {},
   "outputs": [
    {
     "name": "stdout",
     "output_type": "stream",
     "text": [
      "{'C': 0.1, 'gamma': 0.1, 'kernel': 'rbf'} Cmp 0.018211794475636867 12.479184896409\n",
      "{'C': 0.1, 'gamma': 0.01, 'kernel': 'rbf'} Att 0.01778778474849758 15.993013169736807\n",
      "{'C': 10, 'gamma': 0.01, 'kernel': 'rbf'} Yds 0.022863707738173894 120.34947254822073\n",
      "{'C': 0.1, 'gamma': 0.1, 'kernel': 'rbf'} TD 0.15053899549645838 1.921025931987167\n",
      "{'C': 10, 'gamma': 0.01, 'kernel': 'rbf'} Int 0.4870757571446384 1.7645915256810127\n",
      "{'C': 1, 'gamma': 0.01, 'kernel': 'rbf'} RAtt 0.14524743212084174 3.1304056798734234\n",
      "{'C': 1, 'gamma': 0.01, 'kernel': 'rbf'} RYds 0.24185170657455632 20.080865124803136\n",
      "{'C': 0.1, 'gamma': 0.1, 'kernel': 'rbf'} RTD 1.00531773410756 0.5283974005735826\n",
      "0.2611118640507954 {'BradTo00': [(334.63476322552026, 385.0), (506.6142108242522, 581.0), (3871.225314271823, 4577.0), (18.180042050868366, 32.0), (5.090341517490776, 8.0), (26.041845994007762, 25.0), (40.567294365557224, 28.0), (0.18951862263894875, 1.0408340855860843e-17)], 'WilsRu00': [(313.3960414951556, 339.0), (525.6615384538296, 553.0), (3764.478369061796, 3983.0), (17.46512067699977, 34.0), (7.395065211919524, 11.0), (61.836187527999996, 95.0), (288.48042956029246, 586.0), (0.265059011624979, 3.0)], 'WentCa00': [(287.16373974459464, 265.0), (467.71605091064686, 440.0), (3469.4437164038545, 3296.0), (16.738370728286974, 33.0), (5.534509884148374, 7.0), (45.339888781712574, 64.0), (174.91691877918225, 299.0), (0.23194356524706478, 1.0408340855860843e-17)], 'BreeDr00': [(368.1631032241129, 386.0), (517.0466960742026, 536.0), (4271.793237209464, 4334.0), (19.640853081325332, 23.0), (4.134662976656856, 8.0), (28.566707353138042, 33.0), (59.932143584073245, 12.0), (0.2057886155485419, 2.0)], 'RodgAa00': [(175.97471023021902, 154.0), (274.70403354014593, 238.0), (2066.540975815865, 1675.0), (9.64338578209367, 16.0), (4.513375284282225, 6.0), (24.321859453284446, 24.0), (80.3017728782561, 126.0), (0.22523421471028318, 1.0408340855860843e-17)]}\n"
     ]
    }
   ],
   "source": [
    "%run -i complexsvr.py QB"
   ]
  },
  {
   "cell_type": "code",
   "execution_count": 8,
   "metadata": {},
   "outputs": [
    {
     "name": "stdout",
     "output_type": "stream",
     "text": [
      "{'learning_rate': 0.1, 'max_depth': 1, 'min_samples_split': 2} Cmp 0.022487349260007738 15.307636099568601\n",
      "{'learning_rate': 0.1, 'max_depth': 1, 'min_samples_split': 2} Att 0.02213479386926837 24.38669057924012\n",
      "{'learning_rate': 0.1, 'max_depth': 1, 'min_samples_split': 2} Yds 0.028667162649382585 183.58529379877916\n",
      "{'learning_rate': 0.1, 'max_depth': 1, 'min_samples_split': 2} TD 0.08995290991436125 1.4159784006773632\n",
      "{'learning_rate': 0.1, 'max_depth': 1, 'min_samples_split': 5} Int 0.1744394345554173 1.172350885945805\n",
      "{'learning_rate': 0.1, 'max_depth': 1, 'min_samples_split': 2} RAtt 0.12814443760291316 5.044023372957261\n",
      "{'learning_rate': 0.1, 'max_depth': 1, 'min_samples_split': 2} RYds 0.16202576434833404 28.10823256157114\n",
      "{'learning_rate': 0.1, 'max_depth': 1, 'min_samples_split': 2} RTD 0.39262793138804525 0.442359601989805\n",
      "0.12755997294846622 {'BradTo00': [(347.465960810563, 385.0), (552.8211548745599, 581.0), (3999.173016802811, 4577.0), (22.44016184271689, 32.0), (11.030963615712437, 8.0), (33.63358022504888, 25.0), (101.68757135652683, 28.0), (0.6569658522323059, 1.0408340855860843e-17)], 'WilsRu00': [(329.4689574600891, 339.0), (534.352521995093, 553.0), (3840.157126099128, 3983.0), (22.019307527992883, 34.0), (11.632534476467928, 11.0), (71.77310981377553, 95.0), (369.9012724386949, 586.0), (2.508814895710111, 3.0)], 'WentCa00': [(301.5682125151865, 265.0), (496.4909785655045, 440.0), (3526.505540475537, 3296.0), (21.464872001834248, 33.0), (10.696021465993603, 7.0), (51.78394337873923, 64.0), (250.1234831417388, 299.0), (1.8974731809439436, 1.0408340855860843e-17)], 'BreeDr00': [(365.94976433703846, 386.0), (578.7012446375036, 536.0), (4197.502342844446, 4334.0), (21.971295969948024, 23.0), (11.620062649246492, 8.0), (39.47257692253726, 33.0), (125.01008619322721, 12.0), (0.9092986496186217, 2.0)], 'RodgAa00': [(190.4225544676974, 154.0), (306.6119121255521, 238.0), (2148.293921131143, 1675.0), (12.368781374354834, 16.0), (6.655794893897365, 6.0), (29.71096108493632, 24.0), (126.57300723830242, 126.0), (1.043947890089622, 1.0408340855860843e-17)]}\n"
     ]
    }
   ],
   "source": [
    "%run -i complexgbt.py QB"
   ]
  },
  {
   "cell_type": "code",
   "execution_count": 9,
   "metadata": {},
   "outputs": [
    {
     "name": "stdout",
     "output_type": "stream",
     "text": [
      "{'max_depth': 8, 'max_leaf_nodes': 100, 'min_samples_leaf': 10, 'min_samples_split': 5} Cmp 0.029816776436356284 18.596899045525532\n",
      "{'max_depth': 5, 'max_leaf_nodes': 200, 'min_samples_leaf': 10, 'min_samples_split': 5} Att 0.027631147463708917 28.17142156232622\n",
      "{'max_depth': 5, 'max_leaf_nodes': 100, 'min_samples_leaf': 10, 'min_samples_split': 5} Yds 0.03686460502168549 228.06381735003956\n",
      "{'max_depth': 5, 'max_leaf_nodes': 200, 'min_samples_leaf': 5, 'min_samples_split': 5} TD 0.10409336323663944 1.6371925442581468\n",
      "{'max_depth': 5, 'max_leaf_nodes': 100, 'min_samples_leaf': 10, 'min_samples_split': 5} Int 0.17345299448808568 1.1928747181249906\n",
      "{'max_depth': 5, 'max_leaf_nodes': 100, 'min_samples_leaf': 10, 'min_samples_split': 5} RAtt 0.11848525423456936 3.9322193170339217\n",
      "{'max_depth': 5, 'max_leaf_nodes': 100, 'min_samples_leaf': 10, 'min_samples_split': 5} RYds 0.14546348931713068 21.047121292324686\n",
      "{'max_depth': 5, 'max_leaf_nodes': 200, 'min_samples_leaf': 10, 'min_samples_split': 10} RTD 0.3701182910019736 0.35673250485360203\n",
      "0.12574074015001868 {'BradTo00': [(352.0003825894795, 385.0), (567.9636880168057, 581.0), (4044.642332917601, 4577.0), (21.58653897951428, 32.0), (11.307418788386027, 8.0), (32.55258251549829, 25.0), (114.54996934434106, 28.0), (0.9625492047459695, 1.0408340855860843e-17)], 'WilsRu00': [(314.27499449950096, 339.0), (531.7382962891209, 553.0), (3715.1583775409445, 3983.0), (23.153032092516085, 34.0), (11.040663512270367, 11.0), (68.68647510403848, 95.0), (382.25579674449455, 586.0), (2.8607429899816283, 3.0)], 'WentCa00': [(302.9739136553311, 265.0), (473.7925990964797, 440.0), (3521.6499933206096, 3296.0), (21.192337133152506, 33.0), (10.562508660891154, 7.0), (47.954497749348505, 64.0), (258.7817156976417, 299.0), (2.460490280758128, 1.0408340855860843e-17)], 'BreeDr00': [(371.7766428091496, 386.0), (561.0868941162491, 536.0), (4274.566255555613, 4334.0), (21.079350315109238, 23.0), (13.232918430270715, 8.0), (38.44388668052213, 33.0), (116.47942217993914, 12.0), (0.6534586942999192, 2.0)], 'RodgAa00': [(188.01314400043674, 154.0), (289.9292921461755, 238.0), (2122.295622874043, 1675.0), (13.63010140944967, 16.0), (6.04664471291443, 6.0), (28.65771484932019, 24.0), (129.3458488736381, 126.0), (1.4027408501576388, 1.0408340855860843e-17)]}\n"
     ]
    }
   ],
   "source": [
    "%run -i complexrfr.py QB"
   ]
  },
  {
   "cell_type": "code",
   "execution_count": 23,
   "metadata": {},
   "outputs": [
    {
     "name": "stderr",
     "output_type": "stream",
     "text": [
      "/usr/lib/python3.6/site-packages/tensorflow/python/client/session.py:1711: UserWarning: An interactive session is already active. This can cause out-of-memory errors in some cases. You must explicitly call `InteractiveSession.close()` to release resources held by the other session(s).\n",
      "  warnings.warn('An interactive session is already active. This can '\n"
     ]
    },
    {
     "name": "stdout",
     "output_type": "stream",
     "text": [
      "Cmp 0.024357848 10.961771995188242\n",
      "Att 0.018018361 15.608229550970606\n",
      "Yds 0.027051449 138.2729738764016\n",
      "TD 0.051438913 0.9737552434026476\n",
      "Int 0.065989204 0.5288721427141901\n",
      "RAtt 0.07448218 2.619819261941565\n",
      "RYds 0.068947606 12.597900447357132\n",
      "RTD 0.07113557 0.13356528554044395\n",
      "0.0501776416786015 {'BradTo00': [(376.5874, 385.0), (550.3943, 581.0), (4050.7075, 4577.0), (25.400177, 32.0), (8.426699, 8.0), (22.569399, 25.0), (26.262905, 28.0), (0.21374203, 1.0408340855860843e-17)], 'WilsRu00': [(283.43213, 339.0), (476.52893, 553.0), (3259.369, 3983.0), (28.107014, 34.0), (9.061604, 11.0), (87.89417, 95.0), (479.91736, 586.0), (2.070975, 3.0)], 'WentCa00': [(273.20572, 265.0), (391.39148, 440.0), (3300.8972, 3296.0), (26.73472, 33.0), (7.088478, 7.0), (61.74852, 64.0), (280.3981, 299.0), (0.55403745, 1.0408340855860843e-17)], 'BreeDr00': [(361.3491, 386.0), (523.8063, 536.0), (4072.5444, 4334.0), (19.754175, 23.0), (7.1993475, 8.0), (24.311014, 33.0), (24.671839, 12.0), (2.4844618, 2.0)], 'RodgAa00': [(183.96243, 154.0), (275.09686, 238.0), (2603.261, 1675.0), (13.18655, 16.0), (3.462871, 6.0), (39.525238, 24.0), (147.1532, 126.0), (0.105371684, 1.0408340855860843e-17)]}\n"
     ]
    }
   ],
   "source": [
    "%run -i complexrnn.py QB"
   ]
  },
  {
   "cell_type": "code",
   "execution_count": null,
   "metadata": {},
   "outputs": [],
   "source": []
  }
 ],
 "metadata": {
  "kernelspec": {
   "display_name": "Python 3",
   "language": "python",
   "name": "python3"
  },
  "language_info": {
   "codemirror_mode": {
    "name": "ipython",
    "version": 3
   },
   "file_extension": ".py",
   "mimetype": "text/x-python",
   "name": "python",
   "nbconvert_exporter": "python",
   "pygments_lexer": "ipython3",
   "version": "3.6.4"
  }
 },
 "nbformat": 4,
 "nbformat_minor": 2
}
