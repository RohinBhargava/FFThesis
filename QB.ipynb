{
 "cells": [
  {
   "cell_type": "code",
   "execution_count": 59,
   "metadata": {},
   "outputs": [
    {
     "name": "stderr",
     "output_type": "stream",
     "text": [
      "/home/legmonkey/Documents/FFThesis/common.py:52: SettingWithCopyWarning: \n",
      "A value is trying to be set on a copy of a slice from a DataFrame\n",
      "\n",
      "See the caveats in the documentation: http://pandas.pydata.org/pandas-docs/stable/indexing.html#indexing-view-versus-copy\n",
      "  row[b] = np.float32(0)\n"
     ]
    },
    {
     "name": "stdout",
     "output_type": "stream",
     "text": [
      "Cmp 0.3668876\n",
      "Att 0.37435868\n",
      "Yds 0.36082295\n",
      "TD 0.4130955\n",
      "Int 0.61545295\n",
      "RAtt 0.48696503\n",
      "RYds 0.6575684\n",
      "Y/A 0.8809072\n",
      "RTD 0.6790824\n",
      "Tgt 0.051899944\n",
      "Rec 0.032217097\n",
      "WYds 0.8875749\n",
      "Y/R 0.8504455\n",
      "WTD 7.868887e-06\n",
      "FantPt 0.3824361\n",
      "0.4693148067316239\n"
     ]
    }
   ],
   "source": [
    "%run -i baseline.py QB"
   ]
  },
  {
   "cell_type": "markdown",
   "metadata": {},
   "source": [
    "Nix Team Rank\n",
    "Change Position to binary values (pd.get_dummies)\n",
    "Age should be years in the league\n",
    "Get rid of receiving statistics\n",
    "Don't use complex statistics\n",
    "Take out position rank"
   ]
  },
  {
   "cell_type": "code",
   "execution_count": 83,
   "metadata": {},
   "outputs": [
    {
     "name": "stdout",
     "output_type": "stream",
     "text": [
      "138 163.5136728930664\n",
      "141 83.8647836566575\n",
      "142 122.46975578651119\n",
      "143 31.935610998367203\n",
      "144 13.446411722254897\n",
      "Cmp 301.67840321799673\n",
      "138 73.67166505568032\n",
      "141 66.92341085522978\n",
      "142 61.49632420864104\n",
      "Att 83.79455922271885\n",
      "138 18.233009223552827\n",
      "141 51.64233200723407\n",
      "142 54.780268688696644\n",
      "Yds 37.08279676593429\n",
      "120 15.921529515825071\n",
      "138 82.31148473238007\n",
      "141 134.8147027434777\n",
      "142 67.76604477712357\n",
      "TD 180.9112823574707\n",
      "32 29.457278731740658\n",
      "138 57.86844035443905\n",
      "141 12.385218505719477\n",
      "142 112.24469185174382\n",
      "144 29.688336507145866\n",
      "145 28.79830794102381\n",
      "Int 113.71520885745691\n",
      "RAtt 60.54811313054122\n",
      "141 55.993909080351465\n",
      "142 16.40407962192027\n",
      "RYds 21.963425298921333\n",
      "Y/A 37.13540076546907\n",
      "141 339.63780106349316\n",
      "142 35.49975262617879\n",
      "RTD 704.6346755099852\n",
      "Tgt 1.2379692445673693\n",
      "Rec 11.720435899867125\n",
      "153 10.053276417784843\n",
      "WYds 212.11792470426266\n",
      "82 61.574189654466295\n",
      "106 46.8076392681459\n",
      "121 252.99281877550726\n",
      "142 13.943327872362591\n",
      "153 10.05455640945803\n",
      "Y/R 424.9641624183375\n",
      "WTD 0.024041560012204154\n",
      "138 87.73975970528295\n",
      "141 128.02139651832618\n",
      "142 49.18762939602244\n",
      "FantPt 160.95635105551008\n",
      "156.83231666727008\n"
     ]
    }
   ],
   "source": [
    "%run -i arima.py QB"
   ]
  },
  {
   "cell_type": "code",
   "execution_count": 16,
   "metadata": {},
   "outputs": [
    {
     "name": "stderr",
     "output_type": "stream",
     "text": [
      "/usr/lib/python3.6/site-packages/tensorflow/python/client/session.py:1711: UserWarning: An interactive session is already active. This can cause out-of-memory errors in some cases. You must explicitly call `InteractiveSession.close()` to release resources held by the other session(s).\n",
      "  warnings.warn('An interactive session is already active. This can '\n"
     ]
    },
    {
     "name": "stdout",
     "output_type": "stream",
     "text": [
      "Cmp 0.33970848\n",
      "Att 0.35674155\n",
      "Yds 0.33424294\n",
      "TD 0.4170866\n",
      "Int 0.57917434\n",
      "RAtt 0.44412687\n",
      "RYds 0.5582815\n",
      "Y/A 0.8783731\n",
      "RTD 0.68722874\n",
      "Tgt 0.011922744\n",
      "Rec 0.011801278\n",
      "WYds 0.81892544\n",
      "Y/R 0.81900215\n",
      "WTD 1.0962621e-07\n",
      "FantPt 0.36339232\n",
      "0.44133387560088455\n"
     ]
    }
   ],
   "source": [
    "%run -i rnn.py QB"
   ]
  },
  {
   "cell_type": "code",
   "execution_count": null,
   "metadata": {},
   "outputs": [],
   "source": []
  },
  {
   "cell_type": "code",
   "execution_count": null,
   "metadata": {},
   "outputs": [],
   "source": []
  }
 ],
 "metadata": {
  "kernelspec": {
   "display_name": "Python 3",
   "language": "python",
   "name": "python3"
  },
  "language_info": {
   "codemirror_mode": {
    "name": "ipython",
    "version": 3
   },
   "file_extension": ".py",
   "mimetype": "text/x-python",
   "name": "python",
   "nbconvert_exporter": "python",
   "pygments_lexer": "ipython3",
   "version": "3.6.4"
  }
 },
 "nbformat": 4,
 "nbformat_minor": 2
}
