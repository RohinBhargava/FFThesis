{
 "cells": [
  {
   "cell_type": "code",
   "execution_count": 11,
   "metadata": {},
   "outputs": [
    {
     "name": "stdout",
     "output_type": "stream",
     "text": [
      "RAtt 0.38090846 19.15717\n",
      "RYds 0.37731948 81.96508\n",
      "RTD 0.5718775 0.6690252\n",
      "Tgt 0.3626305 5.248914\n",
      "Rec 0.34858042 3.8910377\n",
      "WYds 0.37605354 33.23462\n",
      "WTD 0.6893498 0.27228713\n",
      "0.4438170918396541 {'BellLe00': [(171.58961, 321.0), (850.1872, 1291.0), (3.2721884, 9.0), (56.747673, 106.00001), (44.19317, 85.0), (280.19492, 655.0), (0.62955725, 2.0)], 'GurlTo01': [(214.23874, 279.0), (710.0503, 1305.0), (4.193084, 13.0), (41.612694, 87.0), (30.924618, 64.0), (225.30203, 788.0), (0.04663782, 6.0)], 'ElliEz00': [(255.92798, 242.0), (1219.1782, 983.0), (8.900817, 7.0), (32.563343, 38.0), (26.469421, 26.0), (292.45053, 269.0), (0.68995017, 2.0)], 'KamaAl00': [(97.71368, 120.0), (554.5993, 728.0), (4.822515, 7.9999995), (83.17508, 100.0), (66.839134, 81.0), (664.04663, 826.0), (3.2631998, 5.0)], 'HuntKa00': [(216.76602, 272.0), (995.44403, 1327.0), (4.822515, 7.9999995), (52.47616, 63.0), (43.77073, 53.0), (366.28815, 455.0), (1.9765749, 3.0)]}\n"
     ]
    }
   ],
   "source": [
    "%run -i baseline.py RB"
   ]
  },
  {
   "cell_type": "code",
   "execution_count": 2,
   "metadata": {},
   "outputs": [
    {
     "name": "stdout",
     "output_type": "stream",
     "text": [
      "RAtt 9.01400502038138 No. Skipped: 37\n"
     ]
    },
    {
     "ename": "LinAlgError",
     "evalue": "Non-positive-definite forecast error covariance matrix encountered at period 2",
     "output_type": "error",
     "traceback": [
      "\u001b[0;31m---------------------------------------------------------------------------\u001b[0m",
      "\u001b[0;31mZeroDivisionError\u001b[0m                         Traceback (most recent call last)",
      "\u001b[0;32mstatsmodels/tsa/statespace/_statespace.pyx\u001b[0m in \u001b[0;36mstatsmodels.tsa.statespace._statespace.dinverse_univariate (statsmodels/tsa/statespace/_statespace.c:23566)\u001b[0;34m()\u001b[0m\n",
      "\u001b[0;31mZeroDivisionError\u001b[0m: float division",
      "\nDuring handling of the above exception, another exception occurred:\n",
      "\u001b[0;31mLinAlgError\u001b[0m                               Traceback (most recent call last)",
      "\u001b[0;32m~/Documents/FFThesis/arima.py\u001b[0m in \u001b[0;36m<module>\u001b[0;34m()\u001b[0m\n\u001b[1;32m     35\u001b[0m             \u001b[0marima\u001b[0m \u001b[0;34m=\u001b[0m \u001b[0msm\u001b[0m\u001b[0;34m.\u001b[0m\u001b[0mtsa\u001b[0m\u001b[0;34m.\u001b[0m\u001b[0mstatespace\u001b[0m\u001b[0;34m.\u001b[0m\u001b[0mSARIMAX\u001b[0m\u001b[0;34m(\u001b[0m\u001b[0mtime\u001b[0m\u001b[0;34m,\u001b[0m \u001b[0morder\u001b[0m\u001b[0;34m=\u001b[0m\u001b[0;34m(\u001b[0m\u001b[0;36m1\u001b[0m\u001b[0;34m,\u001b[0m\u001b[0;36m1\u001b[0m\u001b[0;34m,\u001b[0m\u001b[0;36m1\u001b[0m\u001b[0;34m)\u001b[0m\u001b[0;34m,\u001b[0m \u001b[0menforce_stationarity\u001b[0m\u001b[0;34m=\u001b[0m\u001b[0;32mFalse\u001b[0m\u001b[0;34m,\u001b[0m \u001b[0menforce_invertibility\u001b[0m\u001b[0;34m=\u001b[0m\u001b[0;32mFalse\u001b[0m\u001b[0;34m)\u001b[0m\u001b[0;34m\u001b[0m\u001b[0m\n\u001b[1;32m     36\u001b[0m \u001b[0;34m\u001b[0m\u001b[0m\n\u001b[0;32m---> 37\u001b[0;31m             \u001b[0mfit\u001b[0m \u001b[0;34m=\u001b[0m \u001b[0marima\u001b[0m\u001b[0;34m.\u001b[0m\u001b[0mfit\u001b[0m\u001b[0;34m(\u001b[0m\u001b[0mdisp\u001b[0m\u001b[0;34m=\u001b[0m\u001b[0;36m0\u001b[0m\u001b[0;34m)\u001b[0m\u001b[0;34m\u001b[0m\u001b[0m\n\u001b[0m\u001b[1;32m     38\u001b[0m             \u001b[0;31m# print fit.summary()\u001b[0m\u001b[0;34m\u001b[0m\u001b[0;34m\u001b[0m\u001b[0m\n\u001b[1;32m     39\u001b[0m             \u001b[0;31m# print (fit.forecast())\u001b[0m\u001b[0;34m\u001b[0m\u001b[0;34m\u001b[0m\u001b[0m\n",
      "\u001b[0;32m/usr/lib/python3.6/site-packages/statsmodels/tsa/statespace/mlemodel.py\u001b[0m in \u001b[0;36mfit\u001b[0;34m(self, start_params, transformed, cov_type, cov_kwds, method, maxiter, full_output, disp, callback, return_params, optim_score, optim_complex_step, optim_hessian, **kwargs)\u001b[0m\n\u001b[1;32m    444\u001b[0m                                            \u001b[0mfull_output\u001b[0m\u001b[0;34m=\u001b[0m\u001b[0mfull_output\u001b[0m\u001b[0;34m,\u001b[0m\u001b[0;34m\u001b[0m\u001b[0m\n\u001b[1;32m    445\u001b[0m                                            \u001b[0mdisp\u001b[0m\u001b[0;34m=\u001b[0m\u001b[0mdisp\u001b[0m\u001b[0;34m,\u001b[0m \u001b[0mcallback\u001b[0m\u001b[0;34m=\u001b[0m\u001b[0mcallback\u001b[0m\u001b[0;34m,\u001b[0m\u001b[0;34m\u001b[0m\u001b[0m\n\u001b[0;32m--> 446\u001b[0;31m                                            skip_hessian=True, **kwargs)\n\u001b[0m\u001b[1;32m    447\u001b[0m \u001b[0;34m\u001b[0m\u001b[0m\n\u001b[1;32m    448\u001b[0m         \u001b[0;31m# Just return the fitted parameters if requested\u001b[0m\u001b[0;34m\u001b[0m\u001b[0;34m\u001b[0m\u001b[0m\n",
      "\u001b[0;32m/usr/lib/python3.6/site-packages/statsmodels/base/model.py\u001b[0m in \u001b[0;36mfit\u001b[0;34m(self, start_params, method, maxiter, full_output, disp, fargs, callback, retall, skip_hessian, **kwargs)\u001b[0m\n\u001b[1;32m    449\u001b[0m                                                        \u001b[0mcallback\u001b[0m\u001b[0;34m=\u001b[0m\u001b[0mcallback\u001b[0m\u001b[0;34m,\u001b[0m\u001b[0;34m\u001b[0m\u001b[0m\n\u001b[1;32m    450\u001b[0m                                                        \u001b[0mretall\u001b[0m\u001b[0;34m=\u001b[0m\u001b[0mretall\u001b[0m\u001b[0;34m,\u001b[0m\u001b[0;34m\u001b[0m\u001b[0m\n\u001b[0;32m--> 451\u001b[0;31m                                                        full_output=full_output)\n\u001b[0m\u001b[1;32m    452\u001b[0m \u001b[0;34m\u001b[0m\u001b[0m\n\u001b[1;32m    453\u001b[0m         \u001b[0;31m#NOTE: this is for fit_regularized and should be generalized\u001b[0m\u001b[0;34m\u001b[0m\u001b[0;34m\u001b[0m\u001b[0m\n",
      "\u001b[0;32m/usr/lib/python3.6/site-packages/statsmodels/base/optimizer.py\u001b[0m in \u001b[0;36m_fit\u001b[0;34m(self, objective, gradient, start_params, fargs, kwargs, hessian, method, maxiter, full_output, disp, callback, retall)\u001b[0m\n\u001b[1;32m    182\u001b[0m                             \u001b[0mdisp\u001b[0m\u001b[0;34m=\u001b[0m\u001b[0mdisp\u001b[0m\u001b[0;34m,\u001b[0m \u001b[0mmaxiter\u001b[0m\u001b[0;34m=\u001b[0m\u001b[0mmaxiter\u001b[0m\u001b[0;34m,\u001b[0m \u001b[0mcallback\u001b[0m\u001b[0;34m=\u001b[0m\u001b[0mcallback\u001b[0m\u001b[0;34m,\u001b[0m\u001b[0;34m\u001b[0m\u001b[0m\n\u001b[1;32m    183\u001b[0m                             \u001b[0mretall\u001b[0m\u001b[0;34m=\u001b[0m\u001b[0mretall\u001b[0m\u001b[0;34m,\u001b[0m \u001b[0mfull_output\u001b[0m\u001b[0;34m=\u001b[0m\u001b[0mfull_output\u001b[0m\u001b[0;34m,\u001b[0m\u001b[0;34m\u001b[0m\u001b[0m\n\u001b[0;32m--> 184\u001b[0;31m                             hess=hessian)\n\u001b[0m\u001b[1;32m    185\u001b[0m \u001b[0;34m\u001b[0m\u001b[0m\n\u001b[1;32m    186\u001b[0m         optim_settings = {'optimizer': method, 'start_params': start_params,\n",
      "\u001b[0;32m/usr/lib/python3.6/site-packages/statsmodels/base/optimizer.py\u001b[0m in \u001b[0;36m_fit_lbfgs\u001b[0;34m(f, score, start_params, fargs, kwargs, disp, maxiter, callback, retall, full_output, hess)\u001b[0m\n\u001b[1;32m    376\u001b[0m                                          \u001b[0mcallback\u001b[0m\u001b[0;34m=\u001b[0m\u001b[0mcallback\u001b[0m\u001b[0;34m,\u001b[0m \u001b[0margs\u001b[0m\u001b[0;34m=\u001b[0m\u001b[0mfargs\u001b[0m\u001b[0;34m,\u001b[0m\u001b[0;34m\u001b[0m\u001b[0m\n\u001b[1;32m    377\u001b[0m                                          \u001b[0mbounds\u001b[0m\u001b[0;34m=\u001b[0m\u001b[0mbounds\u001b[0m\u001b[0;34m,\u001b[0m \u001b[0mdisp\u001b[0m\u001b[0;34m=\u001b[0m\u001b[0mdisp\u001b[0m\u001b[0;34m,\u001b[0m\u001b[0;34m\u001b[0m\u001b[0m\n\u001b[0;32m--> 378\u001b[0;31m                                          **extra_kwargs)\n\u001b[0m\u001b[1;32m    379\u001b[0m \u001b[0;34m\u001b[0m\u001b[0m\n\u001b[1;32m    380\u001b[0m     \u001b[0;32mif\u001b[0m \u001b[0mfull_output\u001b[0m\u001b[0;34m:\u001b[0m\u001b[0;34m\u001b[0m\u001b[0m\n",
      "\u001b[0;32m/usr/lib/python3.6/site-packages/scipy/optimize/lbfgsb.py\u001b[0m in \u001b[0;36mfmin_l_bfgs_b\u001b[0;34m(func, x0, fprime, args, approx_grad, bounds, m, factr, pgtol, epsilon, iprint, maxfun, maxiter, disp, callback, maxls)\u001b[0m\n\u001b[1;32m    197\u001b[0m \u001b[0;34m\u001b[0m\u001b[0m\n\u001b[1;32m    198\u001b[0m     res = _minimize_lbfgsb(fun, x0, args=args, jac=jac, bounds=bounds,\n\u001b[0;32m--> 199\u001b[0;31m                            **opts)\n\u001b[0m\u001b[1;32m    200\u001b[0m     d = {'grad': res['jac'],\n\u001b[1;32m    201\u001b[0m          \u001b[0;34m'task'\u001b[0m\u001b[0;34m:\u001b[0m \u001b[0mres\u001b[0m\u001b[0;34m[\u001b[0m\u001b[0;34m'message'\u001b[0m\u001b[0;34m]\u001b[0m\u001b[0;34m,\u001b[0m\u001b[0;34m\u001b[0m\u001b[0m\n",
      "\u001b[0;32m/usr/lib/python3.6/site-packages/scipy/optimize/lbfgsb.py\u001b[0m in \u001b[0;36m_minimize_lbfgsb\u001b[0;34m(fun, x0, args, jac, bounds, disp, maxcor, ftol, gtol, eps, maxfun, maxiter, iprint, callback, maxls, **unknown_options)\u001b[0m\n\u001b[1;32m    333\u001b[0m             \u001b[0;31m# until the completion of the current minimization iteration.\u001b[0m\u001b[0;34m\u001b[0m\u001b[0;34m\u001b[0m\u001b[0m\n\u001b[1;32m    334\u001b[0m             \u001b[0;31m# Overwrite f and g:\u001b[0m\u001b[0;34m\u001b[0m\u001b[0;34m\u001b[0m\u001b[0m\n\u001b[0;32m--> 335\u001b[0;31m             \u001b[0mf\u001b[0m\u001b[0;34m,\u001b[0m \u001b[0mg\u001b[0m \u001b[0;34m=\u001b[0m \u001b[0mfunc_and_grad\u001b[0m\u001b[0;34m(\u001b[0m\u001b[0mx\u001b[0m\u001b[0;34m)\u001b[0m\u001b[0;34m\u001b[0m\u001b[0m\n\u001b[0m\u001b[1;32m    336\u001b[0m         \u001b[0;32melif\u001b[0m \u001b[0mtask_str\u001b[0m\u001b[0;34m.\u001b[0m\u001b[0mstartswith\u001b[0m\u001b[0;34m(\u001b[0m\u001b[0;34mb'NEW_X'\u001b[0m\u001b[0;34m)\u001b[0m\u001b[0;34m:\u001b[0m\u001b[0;34m\u001b[0m\u001b[0m\n\u001b[1;32m    337\u001b[0m             \u001b[0;31m# new iteration\u001b[0m\u001b[0;34m\u001b[0m\u001b[0;34m\u001b[0m\u001b[0m\n",
      "\u001b[0;32m/usr/lib/python3.6/site-packages/scipy/optimize/lbfgsb.py\u001b[0m in \u001b[0;36mfunc_and_grad\u001b[0;34m(x)\u001b[0m\n\u001b[1;32m    278\u001b[0m     \u001b[0;32mif\u001b[0m \u001b[0mjac\u001b[0m \u001b[0;32mis\u001b[0m \u001b[0;32mNone\u001b[0m\u001b[0;34m:\u001b[0m\u001b[0;34m\u001b[0m\u001b[0m\n\u001b[1;32m    279\u001b[0m         \u001b[0;32mdef\u001b[0m \u001b[0mfunc_and_grad\u001b[0m\u001b[0;34m(\u001b[0m\u001b[0mx\u001b[0m\u001b[0;34m)\u001b[0m\u001b[0;34m:\u001b[0m\u001b[0;34m\u001b[0m\u001b[0m\n\u001b[0;32m--> 280\u001b[0;31m             \u001b[0mf\u001b[0m \u001b[0;34m=\u001b[0m \u001b[0mfun\u001b[0m\u001b[0;34m(\u001b[0m\u001b[0mx\u001b[0m\u001b[0;34m,\u001b[0m \u001b[0;34m*\u001b[0m\u001b[0margs\u001b[0m\u001b[0;34m)\u001b[0m\u001b[0;34m\u001b[0m\u001b[0m\n\u001b[0m\u001b[1;32m    281\u001b[0m             \u001b[0mg\u001b[0m \u001b[0;34m=\u001b[0m \u001b[0m_approx_fprime_helper\u001b[0m\u001b[0;34m(\u001b[0m\u001b[0mx\u001b[0m\u001b[0;34m,\u001b[0m \u001b[0mfun\u001b[0m\u001b[0;34m,\u001b[0m \u001b[0mepsilon\u001b[0m\u001b[0;34m,\u001b[0m \u001b[0margs\u001b[0m\u001b[0;34m=\u001b[0m\u001b[0margs\u001b[0m\u001b[0;34m,\u001b[0m \u001b[0mf0\u001b[0m\u001b[0;34m=\u001b[0m\u001b[0mf\u001b[0m\u001b[0;34m)\u001b[0m\u001b[0;34m\u001b[0m\u001b[0m\n\u001b[1;32m    282\u001b[0m             \u001b[0;32mreturn\u001b[0m \u001b[0mf\u001b[0m\u001b[0;34m,\u001b[0m \u001b[0mg\u001b[0m\u001b[0;34m\u001b[0m\u001b[0m\n",
      "\u001b[0;32m/usr/lib/python3.6/site-packages/scipy/optimize/optimize.py\u001b[0m in \u001b[0;36mfunction_wrapper\u001b[0;34m(*wrapper_args)\u001b[0m\n\u001b[1;32m    291\u001b[0m     \u001b[0;32mdef\u001b[0m \u001b[0mfunction_wrapper\u001b[0m\u001b[0;34m(\u001b[0m\u001b[0;34m*\u001b[0m\u001b[0mwrapper_args\u001b[0m\u001b[0;34m)\u001b[0m\u001b[0;34m:\u001b[0m\u001b[0;34m\u001b[0m\u001b[0m\n\u001b[1;32m    292\u001b[0m         \u001b[0mncalls\u001b[0m\u001b[0;34m[\u001b[0m\u001b[0;36m0\u001b[0m\u001b[0;34m]\u001b[0m \u001b[0;34m+=\u001b[0m \u001b[0;36m1\u001b[0m\u001b[0;34m\u001b[0m\u001b[0m\n\u001b[0;32m--> 293\u001b[0;31m         \u001b[0;32mreturn\u001b[0m \u001b[0mfunction\u001b[0m\u001b[0;34m(\u001b[0m\u001b[0;34m*\u001b[0m\u001b[0;34m(\u001b[0m\u001b[0mwrapper_args\u001b[0m \u001b[0;34m+\u001b[0m \u001b[0margs\u001b[0m\u001b[0;34m)\u001b[0m\u001b[0;34m)\u001b[0m\u001b[0;34m\u001b[0m\u001b[0m\n\u001b[0m\u001b[1;32m    294\u001b[0m \u001b[0;34m\u001b[0m\u001b[0m\n\u001b[1;32m    295\u001b[0m     \u001b[0;32mreturn\u001b[0m \u001b[0mncalls\u001b[0m\u001b[0;34m,\u001b[0m \u001b[0mfunction_wrapper\u001b[0m\u001b[0;34m\u001b[0m\u001b[0m\n",
      "\u001b[0;32m/usr/lib/python3.6/site-packages/statsmodels/base/model.py\u001b[0m in \u001b[0;36m<lambda>\u001b[0;34m(params, *args)\u001b[0m\n\u001b[1;32m    427\u001b[0m \u001b[0;34m\u001b[0m\u001b[0m\n\u001b[1;32m    428\u001b[0m         \u001b[0mnobs\u001b[0m \u001b[0;34m=\u001b[0m \u001b[0mself\u001b[0m\u001b[0;34m.\u001b[0m\u001b[0mendog\u001b[0m\u001b[0;34m.\u001b[0m\u001b[0mshape\u001b[0m\u001b[0;34m[\u001b[0m\u001b[0;36m0\u001b[0m\u001b[0;34m]\u001b[0m\u001b[0;34m\u001b[0m\u001b[0m\n\u001b[0;32m--> 429\u001b[0;31m         \u001b[0mf\u001b[0m \u001b[0;34m=\u001b[0m \u001b[0;32mlambda\u001b[0m \u001b[0mparams\u001b[0m\u001b[0;34m,\u001b[0m \u001b[0;34m*\u001b[0m\u001b[0margs\u001b[0m\u001b[0;34m:\u001b[0m \u001b[0;34m-\u001b[0m\u001b[0mself\u001b[0m\u001b[0;34m.\u001b[0m\u001b[0mloglike\u001b[0m\u001b[0;34m(\u001b[0m\u001b[0mparams\u001b[0m\u001b[0;34m,\u001b[0m \u001b[0;34m*\u001b[0m\u001b[0margs\u001b[0m\u001b[0;34m)\u001b[0m \u001b[0;34m/\u001b[0m \u001b[0mnobs\u001b[0m\u001b[0;34m\u001b[0m\u001b[0m\n\u001b[0m\u001b[1;32m    430\u001b[0m         \u001b[0mscore\u001b[0m \u001b[0;34m=\u001b[0m \u001b[0;32mlambda\u001b[0m \u001b[0mparams\u001b[0m\u001b[0;34m,\u001b[0m \u001b[0;34m*\u001b[0m\u001b[0margs\u001b[0m\u001b[0;34m:\u001b[0m \u001b[0;34m-\u001b[0m\u001b[0mself\u001b[0m\u001b[0;34m.\u001b[0m\u001b[0mscore\u001b[0m\u001b[0;34m(\u001b[0m\u001b[0mparams\u001b[0m\u001b[0;34m,\u001b[0m \u001b[0;34m*\u001b[0m\u001b[0margs\u001b[0m\u001b[0;34m)\u001b[0m \u001b[0;34m/\u001b[0m \u001b[0mnobs\u001b[0m\u001b[0;34m\u001b[0m\u001b[0m\n\u001b[1;32m    431\u001b[0m         \u001b[0;32mtry\u001b[0m\u001b[0;34m:\u001b[0m\u001b[0;34m\u001b[0m\u001b[0m\n",
      "\u001b[0;32m/usr/lib/python3.6/site-packages/statsmodels/tsa/statespace/mlemodel.py\u001b[0m in \u001b[0;36mloglike\u001b[0;34m(self, params, *args, **kwargs)\u001b[0m\n\u001b[1;32m    640\u001b[0m             \u001b[0mkwargs\u001b[0m\u001b[0;34m[\u001b[0m\u001b[0;34m'inversion_method'\u001b[0m\u001b[0;34m]\u001b[0m \u001b[0;34m=\u001b[0m \u001b[0mINVERT_UNIVARIATE\u001b[0m \u001b[0;34m|\u001b[0m \u001b[0mSOLVE_LU\u001b[0m\u001b[0;34m\u001b[0m\u001b[0m\n\u001b[1;32m    641\u001b[0m \u001b[0;34m\u001b[0m\u001b[0m\n\u001b[0;32m--> 642\u001b[0;31m         \u001b[0mloglike\u001b[0m \u001b[0;34m=\u001b[0m \u001b[0mself\u001b[0m\u001b[0;34m.\u001b[0m\u001b[0mssm\u001b[0m\u001b[0;34m.\u001b[0m\u001b[0mloglike\u001b[0m\u001b[0;34m(\u001b[0m\u001b[0mcomplex_step\u001b[0m\u001b[0;34m=\u001b[0m\u001b[0mcomplex_step\u001b[0m\u001b[0;34m,\u001b[0m \u001b[0;34m**\u001b[0m\u001b[0mkwargs\u001b[0m\u001b[0;34m)\u001b[0m\u001b[0;34m\u001b[0m\u001b[0m\n\u001b[0m\u001b[1;32m    643\u001b[0m \u001b[0;34m\u001b[0m\u001b[0m\n\u001b[1;32m    644\u001b[0m         \u001b[0;31m# Koopman, Shephard, and Doornik recommend maximizing the average\u001b[0m\u001b[0;34m\u001b[0m\u001b[0;34m\u001b[0m\u001b[0m\n",
      "\u001b[0;32m/usr/lib/python3.6/site-packages/statsmodels/tsa/statespace/kalman_filter.py\u001b[0m in \u001b[0;36mloglike\u001b[0;34m(self, loglikelihood_burn, **kwargs)\u001b[0m\n\u001b[1;32m    684\u001b[0m             \u001b[0mloglikelihood_burn\u001b[0m \u001b[0;34m=\u001b[0m \u001b[0mself\u001b[0m\u001b[0;34m.\u001b[0m\u001b[0mloglikelihood_burn\u001b[0m\u001b[0;34m\u001b[0m\u001b[0m\n\u001b[1;32m    685\u001b[0m         \u001b[0mkwargs\u001b[0m\u001b[0;34m[\u001b[0m\u001b[0;34m'results'\u001b[0m\u001b[0;34m]\u001b[0m \u001b[0;34m=\u001b[0m \u001b[0;34m'loglikelihood'\u001b[0m\u001b[0;34m\u001b[0m\u001b[0m\n\u001b[0;32m--> 686\u001b[0;31m         \u001b[0;32mreturn\u001b[0m \u001b[0mnp\u001b[0m\u001b[0;34m.\u001b[0m\u001b[0msum\u001b[0m\u001b[0;34m(\u001b[0m\u001b[0mself\u001b[0m\u001b[0;34m.\u001b[0m\u001b[0mfilter\u001b[0m\u001b[0;34m(\u001b[0m\u001b[0;34m**\u001b[0m\u001b[0mkwargs\u001b[0m\u001b[0;34m)\u001b[0m\u001b[0;34m[\u001b[0m\u001b[0mloglikelihood_burn\u001b[0m\u001b[0;34m:\u001b[0m\u001b[0;34m]\u001b[0m\u001b[0;34m)\u001b[0m\u001b[0;34m\u001b[0m\u001b[0m\n\u001b[0m\u001b[1;32m    687\u001b[0m \u001b[0;34m\u001b[0m\u001b[0m\n\u001b[1;32m    688\u001b[0m     \u001b[0;32mdef\u001b[0m \u001b[0mloglikeobs\u001b[0m\u001b[0;34m(\u001b[0m\u001b[0mself\u001b[0m\u001b[0;34m,\u001b[0m \u001b[0mloglikelihood_burn\u001b[0m\u001b[0;34m=\u001b[0m\u001b[0;32mNone\u001b[0m\u001b[0;34m,\u001b[0m \u001b[0;34m**\u001b[0m\u001b[0mkwargs\u001b[0m\u001b[0;34m)\u001b[0m\u001b[0;34m:\u001b[0m\u001b[0;34m\u001b[0m\u001b[0m\n",
      "\u001b[0;32m/usr/lib/python3.6/site-packages/statsmodels/tsa/statespace/kalman_filter.py\u001b[0m in \u001b[0;36mfilter\u001b[0;34m(self, filter_method, inversion_method, stability_method, conserve_memory, tolerance, loglikelihood_burn, results, complex_step)\u001b[0m\n\u001b[1;32m    643\u001b[0m \u001b[0;34m\u001b[0m\u001b[0m\n\u001b[1;32m    644\u001b[0m         \u001b[0;31m# Run the filter\u001b[0m\u001b[0;34m\u001b[0m\u001b[0;34m\u001b[0m\u001b[0m\n\u001b[0;32m--> 645\u001b[0;31m         \u001b[0mkfilter\u001b[0m\u001b[0;34m(\u001b[0m\u001b[0;34m)\u001b[0m\u001b[0;34m\u001b[0m\u001b[0m\n\u001b[0m\u001b[1;32m    646\u001b[0m \u001b[0;34m\u001b[0m\u001b[0m\n\u001b[1;32m    647\u001b[0m         \u001b[0;31m# We may just want the loglikelihood\u001b[0m\u001b[0;34m\u001b[0m\u001b[0;34m\u001b[0m\u001b[0m\n",
      "\u001b[0;32mstatsmodels/tsa/statespace/_statespace.pyx\u001b[0m in \u001b[0;36mstatsmodels.tsa.statespace._statespace.dKalmanFilter.__call__ (statsmodels/tsa/statespace/_statespace.c:26923)\u001b[0;34m()\u001b[0m\n",
      "\u001b[0;32mstatsmodels/tsa/statespace/_statespace.pyx\u001b[0m in \u001b[0;36mstatsmodels.tsa.statespace._statespace.dKalmanFilter.__next__ (statsmodels/tsa/statespace/_statespace.c:27091)\u001b[0;34m()\u001b[0m\n",
      "\u001b[0;32mstatsmodels/tsa/statespace/_statespace.pyx\u001b[0m in \u001b[0;36mstatsmodels.tsa.statespace._statespace.dinverse_univariate (statsmodels/tsa/statespace/_statespace.c:23675)\u001b[0;34m()\u001b[0m\n",
      "\u001b[0;31mLinAlgError\u001b[0m: Non-positive-definite forecast error covariance matrix encountered at period 2"
     ]
    }
   ],
   "source": [
    "%run -i arima.py RB"
   ]
  },
  {
   "cell_type": "code",
   "execution_count": 3,
   "metadata": {},
   "outputs": [
    {
     "name": "stdout",
     "output_type": "stream",
     "text": [
      "RAtt 0.70189804 32.969074\n",
      "RYds 0.47066176 124.62981\n",
      "RTD 0.65961075 0.747834\n",
      "Tgt 0.78328985 9.827331\n",
      "Rec 0.8877039 10.072636\n",
      "WYds 0.7725573 61.645954\n",
      "WTD 0.8637362 0.37357324\n",
      "0.7342082602637154 {'BellLe00': [(83.7339096069336, 321.0), (579.6234741210938, 1291.0), (2.4927618503570557, 9.0), (26.728593826293945, 106.00000762939453), (18.410655975341797, 85.0), (146.51748657226562, 655.0), (0.13791799545288086, 2.0)], 'GurlTo01': [(85.07267761230469, 279.0), (672.1810302734375, 1305.0), (3.3501718044281006, 13.0), (11.752811431884766, 87.0), (14.492547988891602, 64.0), (80.02987670898438, 788.0), (0.09950783848762512, 6.0)], 'ElliEz00': [(87.15257263183594, 242.0), (792.5172119140625, 983.0), (3.7160539627075195, 7.0), (18.852375030517578, 38.0), (20.392337799072266, 26.0), (138.01727294921875, 269.0), (0.5859373807907104, 2.0)], 'KamaAl00': [(68.84001159667969, 120.0), (490.00738525390625, 728.0), (3.173238754272461, 7.999999523162842), (31.248960494995117, 100.0), (54.900978088378906, 81.0), (182.96246337890625, 826.0), (3.057206869125366, 5.0)], 'HuntKa00': [(87.47766876220703, 272.0), (727.6629028320312, 1327.0), (3.173238754272461, 7.999999523162842), (26.5631103515625, 63.0), (22.144250869750977, 53.0), (161.141357421875, 455.0), (1.2046869993209839, 3.0)]}\n"
     ]
    }
   ],
   "source": [
    "%run -i rnn.py RB"
   ]
  },
  {
   "cell_type": "code",
   "execution_count": 4,
   "metadata": {},
   "outputs": [
    {
     "name": "stdout",
     "output_type": "stream",
     "text": [
      "{'fit_intercept': False} RAtt 0.04615868187301428 7.897354002350664\n",
      "{'fit_intercept': False} RYds 0.06323302494973973 36.18574250519045\n",
      "{'fit_intercept': False} RTD 0.2597693536187719 0.46100386933156196\n",
      "{'fit_intercept': False} Tgt 0.09108886975982296 3.292469322487392\n",
      "{'fit_intercept': False} Rec 0.1053954148622994 2.614851191310346\n",
      "{'fit_intercept': False} WYds 0.14693814060792643 23.717213355601682\n",
      "{'fit_intercept': False} WTD 0.44950819382824325 0.2314587889203456\n",
      "0.16601309707140258 {'BellLe00': [(309.8098094275041, 321.0), (1253.4660064080895, 1291.0), (7.819688628326526, 9.0), (91.68592875054527, 106.0), (68.05511197795293, 85.0), (550.4196082843412, 655.0), (2.4104448408981862, 2.0)], 'GurlTo01': [(252.07250246817662, 279.0), (1031.0267854722524, 1305.0), (6.548033825422863, 13.0), (77.77132913691479, 87.0), (56.70458133204798, 64.0), (479.05294401453443, 788.0), (1.905000565669745, 6.0)], 'ElliEz00': [(185.57108226823618, 242.0), (738.3103929505389, 983.0), (4.421294822066528, 7.0), (36.688053494392065, 38.0), (27.454948145889887, 26.0), (217.5802000323996, 269.0), (0.8552470821163025, 2.0)], 'KamaAl00': [(122.95124068921189, 120.0), (529.9232939474399, 728.0), (3.045096480507657, 8.0), (71.50171023649214, 100.0), (51.56827014393246, 81.0), (433.8732568240006, 826.0), (2.0361248425184613, 5.0)], 'HuntKa00': [(236.7421182292731, 272.0), (974.2085243806839, 1327.0), (6.00104370832758, 8.0), (57.023654219341104, 63.0), (42.53973900251363, 53.0), (341.0386740051294, 455.0), (1.635945050687395, 3.0)]}\n"
     ]
    }
   ],
   "source": [
    "%run -i complexlr.py RB"
   ]
  },
  {
   "cell_type": "code",
   "execution_count": 5,
   "metadata": {},
   "outputs": [
    {
     "name": "stdout",
     "output_type": "stream",
     "text": [
      "{'alpha': 0.01, 'fit_intercept': False} RAtt 0.050657272699229296 8.32605438140372\n",
      "{'alpha': 0.01, 'fit_intercept': False} RYds 0.06838840891473906 38.029924944381484\n",
      "{'alpha': 0.01, 'fit_intercept': False} RTD 0.2550131296627364 0.4661756480700457\n",
      "{'alpha': 0.05, 'fit_intercept': False} Tgt 0.12139939311367968 3.926414189230192\n",
      "{'alpha': 0.05, 'fit_intercept': False} Rec 0.13537192878285867 3.0552772678422886\n",
      "{'alpha': 0.05, 'fit_intercept': False} WYds 0.18686101158302182 27.67630296628827\n",
      "{'alpha': 0.01, 'fit_intercept': False} WTD 0.45323419083099764 0.23802235863599744\n",
      "0.18156076222675183 {'BellLe00': [(306.7011378780644, 321.0), (1236.9030147341518, 1291.0), (7.763090923732373, 9.0), (86.78322664530678, 106.0), (63.836210798831935, 85.0), (515.6062723424827, 655.0), (2.32797546254562, 2.0)], 'GurlTo01': [(249.53809918229211, 279.0), (1020.0951975447693, 1305.0), (6.429108652012072, 13.0), (68.28637708214771, 87.0), (49.810542848432924, 64.0), (415.4524081100293, 788.0), (1.9554618292755344, 6.0)], 'ElliEz00': [(184.1307586672628, 242.0), (733.5632457567928, 983.0), (4.350445611886801, 7.0), (32.14671980426225, 38.0), (24.116339912972453, 26.0), (188.39371112741804, 269.0), (0.8447514717484623, 2.0)], 'KamaAl00': [(122.86856943741628, 120.0), (527.7834280652855, 728.0), (3.1753309587947247, 8.0), (66.49128783057321, 100.0), (47.57159771051853, 81.0), (404.918996632724, 826.0), (2.043374850808503, 5.0)], 'HuntKa00': [(233.38612219112298, 272.0), (955.0811660958796, 1327.0), (5.961817662133046, 8.0), (53.50486840249642, 63.0), (39.604301541830196, 53.0), (317.5764174157705, 455.0), (1.5445109816057703, 3.0)]}\n"
     ]
    }
   ],
   "source": [
    "%run -i complexlar.py RB"
   ]
  },
  {
   "cell_type": "code",
   "execution_count": 6,
   "metadata": {},
   "outputs": [
    {
     "name": "stdout",
     "output_type": "stream",
     "text": [
      "{'alpha': 0.99, 'fit_intercept': False} RAtt 0.04620256572982556 7.901339888439003\n",
      "{'alpha': 0.99, 'fit_intercept': False} RYds 0.06325712851999113 36.195513175572366\n",
      "{'alpha': 0.99, 'fit_intercept': False} RTD 0.25974815407859825 0.46104458471888143\n",
      "{'alpha': 0.01, 'fit_intercept': False} Tgt 0.09108939539524126 3.2924774453826866\n",
      "{'alpha': 0.01, 'fit_intercept': False} Rec 0.10539560426761654 2.6148543965844824\n",
      "{'alpha': 0.99, 'fit_intercept': False} WYds 0.14697960813621638 23.72047189076432\n",
      "{'alpha': 0.99, 'fit_intercept': False} WTD 0.4495312317120515 0.23147521127542825\n",
      "0.1660290982627915 {'BellLe00': [(309.7996376322586, 321.0), (1253.4294329650365, 1291.0), (7.819674099643654, 9.0), (91.68604051273702, 106.0), (68.05518258004014, 85.0), (550.5011776068905, 655.0), (2.410607590220301, 2.0)], 'GurlTo01': [(252.06487899265628, 279.0), (1030.9908310838914, 1305.0), (6.547492760552058, 13.0), (77.77118663669219, 87.0), (56.704492019907555, 64.0), (478.9473458937275, 788.0), (1.9049269231160557, 6.0)], 'ElliEz00': [(185.54850705654428, 242.0), (738.2360247401584, 983.0), (4.420503341453447, 7.0), (36.68801028850543, 38.0), (27.454921593935342, 26.0), (217.54995233221615, 269.0), (0.855271174587096, 2.0)], 'KamaAl00': [(123.00442073782465, 120.0), (530.0693881501807, 728.0), (3.0468203392087982, 8.0), (71.50172585329139, 100.0), (51.568284083302075, 81.0), (433.88928980453096, 826.0), (2.036103348084439, 5.0)], 'HuntKa00': [(236.7515446231953, 272.0), (974.209303661742, 1327.0), (6.00177316587393, 8.0), (57.02377611377332, 63.0), (42.53982016604442, 53.0), (341.1210209491537, 455.0), (1.6361335197937765, 3.0)]}\n"
     ]
    }
   ],
   "source": [
    "%run -i complexrr.py RB"
   ]
  },
  {
   "cell_type": "code",
   "execution_count": 7,
   "metadata": {},
   "outputs": [
    {
     "name": "stdout",
     "output_type": "stream",
     "text": [
      "{'C': 10, 'gamma': 0.01, 'kernel': 'rbf'} RAtt 0.04122841766776861 6.486733624399845\n",
      "{'C': 1, 'gamma': 0.01, 'kernel': 'rbf'} RYds 0.0809139446416362 31.89289252680036\n",
      "{'C': 1, 'gamma': 0.1, 'kernel': 'rbf'} RTD 0.9087188696677219 0.788852090284757\n",
      "{'C': 10, 'gamma': 0.01, 'kernel': 'rbf'} Tgt 0.12766016222960883 3.5706049027337037\n",
      "{'C': 1, 'gamma': 0.1, 'kernel': 'rbf'} Rec 0.16881595829339185 2.9026314479429116\n",
      "{'C': 10, 'gamma': 0.01, 'kernel': 'linear'} WYds 0.30191078060929044 28.56434861640339\n",
      "{'C': 10, 'gamma': 0.01, 'kernel': 'rbf'} WTD 1.0083509622433644 0.37917588651681067\n",
      "0.3767998707646832 {'BellLe00': [(265.9541578564322, 321.0), (1006.4176628829474, 1291.0), (1.4914596433562106, 9.0), (73.55149311100203, 106.0), (39.993770297049636, 85.0), (392.76930821609795, 655.0), (0.20883151011917356, 2.0)], 'GurlTo01': [(252.87873504064623, 279.0), (967.2971948671316, 1305.0), (1.8053822211317148, 13.0), (67.6836345487736, 87.0), (37.839708933198274, 64.0), (351.81025978787466, 788.0), (0.575644066441112, 6.0)], 'ElliEz00': [(177.78922583435562, 242.0), (675.4813575159735, 983.0), (1.048212059874647, 7.0), (35.31025712657092, 38.0), (23.680818756224596, 26.0), (147.5455555447554, 269.0), (0.16518485970736252, 2.0)], 'KamaAl00': [(151.49741923234257, 120.0), (572.8443729227545, 728.0), (0.7665324735025388, 8.0), (65.38446815070155, 100.0), (40.911408717556455, 81.0), (332.47926779752504, 826.0), (0.07789474509028622, 5.0)], 'HuntKa00': [(242.20846939536793, 272.0), (947.1077697830965, 1327.0), (0.9313863881020643, 8.0), (51.431956985779564, 63.0), (32.49178190596696, 53.0), (248.69034641128854, 455.0), (0.21886437842194414, 3.0)]}\n"
     ]
    }
   ],
   "source": [
    "%run -i complexsvr.py RB"
   ]
  },
  {
   "cell_type": "code",
   "execution_count": 8,
   "metadata": {},
   "outputs": [
    {
     "name": "stdout",
     "output_type": "stream",
     "text": [
      "{'learning_rate': 0.1, 'max_depth': 1, 'min_samples_split': 2} RAtt 0.04078824534559211 7.018511594512836\n",
      "{'learning_rate': 0.1, 'max_depth': 1, 'min_samples_split': 2} RYds 0.05452586357657421 32.82800485588579\n",
      "{'learning_rate': 0.1, 'max_depth': 1, 'min_samples_split': 5} RTD 0.2143957141497694 0.4117135479713459\n",
      "{'learning_rate': 0.1, 'max_depth': 1, 'min_samples_split': 2} Tgt 0.07972285520037964 2.5726311150734915\n",
      "{'learning_rate': 0.1, 'max_depth': 1, 'min_samples_split': 2} Rec 0.08925715086997223 2.073817280486269\n",
      "{'learning_rate': 0.1, 'max_depth': 1, 'min_samples_split': 2} WYds 0.1485842867632943 21.962634252172773\n",
      "{'learning_rate': 0.01, 'max_depth': 2, 'min_samples_split': 2} WTD 0.5989794338576239 0.2976282864058104\n",
      "0.17517907853760084 {'BellLe00': [(255.72387282163794, 321.0), (1034.767900317408, 1291.0), (6.667086751335436, 9.0), (74.50276508652865, 106.0), (54.645920917835305, 85.0), (427.796666677966, 655.0), (1.3265322511752702, 2.0)], 'GurlTo01': [(242.1290147481094, 279.0), (1001.1303129404592, 1305.0), (6.517118136916455, 13.0), (68.77003017005084, 87.0), (51.16296979565939, 64.0), (454.9889049249316, 788.0), (1.3148510269728961, 6.0)], 'ElliEz00': [(174.50164177212406, 242.0), (720.7534471315274, 983.0), (3.7739557354383617, 7.0), (35.24808305733345, 38.0), (27.4306761084444, 26.0), (208.31339383116153, 269.0), (0.685642020280566, 2.0)], 'KamaAl00': [(145.87549397236677, 120.0), (570.6273997891537, 728.0), (4.378125643838562, 8.0), (73.13291135032216, 100.0), (53.261682451107134, 81.0), (443.3238567495369, 826.0), (1.3869101245426754, 5.0)], 'HuntKa00': [(235.57469410925796, 272.0), (990.0484473445139, 1327.0), (6.000740906358965, 8.0), (57.08009991451127, 63.0), (42.384636692071616, 53.0), (337.61038389987266, 455.0), (1.1766181007338856, 3.0)]}\n"
     ]
    }
   ],
   "source": [
    "%run -i complexgbt.py RB"
   ]
  },
  {
   "cell_type": "code",
   "execution_count": 9,
   "metadata": {},
   "outputs": [
    {
     "name": "stdout",
     "output_type": "stream",
     "text": [
      "{'max_depth': 5, 'max_leaf_nodes': 100, 'min_samples_leaf': 10, 'min_samples_split': 5} RAtt 0.03685227672066613 6.4680103710837695\n",
      "{'max_depth': 5, 'max_leaf_nodes': 100, 'min_samples_leaf': 10, 'min_samples_split': 10} RYds 0.05659289761493786 35.840858519415725\n",
      "{'max_depth': 5, 'max_leaf_nodes': 200, 'min_samples_leaf': 10, 'min_samples_split': 10} RTD 0.18237804509118724 0.3663449125600204\n",
      "{'max_depth': 5, 'max_leaf_nodes': 100, 'min_samples_leaf': 10, 'min_samples_split': 10} Tgt 0.07836478215683873 2.3558630770800204\n",
      "{'max_depth': 5, 'max_leaf_nodes': 200, 'min_samples_leaf': 5, 'min_samples_split': 5} Rec 0.09587670849041179 2.0803684728174954\n",
      "{'max_depth': 5, 'max_leaf_nodes': 100, 'min_samples_leaf': 10, 'min_samples_split': 10} WYds 0.15021821572727004 20.75440359161932\n",
      "{'max_depth': 5, 'max_leaf_nodes': 200, 'min_samples_leaf': 5, 'min_samples_split': 10} WTD 0.4126410232651574 0.24734500393776504\n",
      "0.14470342129520988 {'BellLe00': [(270.97315190296547, 321.0), (1150.9503320870672, 1291.0), (7.051073007041326, 9.0), (75.95961523907062, 106.0), (56.4711605869073, 85.0), (519.1028650930882, 655.0), (2.083050231891734, 2.0)], 'GurlTo01': [(263.5329140584061, 279.0), (1047.5987664242996, 1305.0), (7.728568255507225, 13.0), (67.72958009800803, 87.0), (48.69750471650057, 64.0), (438.06751336011473, 788.0), (2.275150938998804, 6.0)], 'ElliEz00': [(187.61230593582138, 242.0), (753.3111194286483, 983.0), (3.95632680746749, 7.0), (35.16694332108142, 38.0), (26.030146977958516, 26.0), (205.74614300367057, 269.0), (1.6809303816126073, 2.0)], 'KamaAl00': [(142.78798312672956, 120.0), (591.2018701613956, 728.0), (4.487405107670389, 8.0), (66.42830994305172, 100.0), (52.11352090898187, 81.0), (415.8100160268855, 826.0), (2.381153639903957, 5.0)], 'HuntKa00': [(233.27608285990502, 272.0), (964.1080407512403, 1327.0), (5.233698460378162, 8.0), (56.010208831319716, 63.0), (40.180129120165105, 53.0), (313.4865698747915, 455.0), (2.131575863515596, 3.0)]}\n"
     ]
    }
   ],
   "source": [
    "%run -i complexrfr.py RB"
   ]
  },
  {
   "cell_type": "code",
   "execution_count": 10,
   "metadata": {},
   "outputs": [
    {
     "name": "stdout",
     "output_type": "stream",
     "text": [
      "RAtt 0.031550724 5.402770350157952\n",
      "RYds 0.05338907 33.61281965902723\n",
      "RTD 0.093457386 0.25172955412335596\n",
      "Tgt 0.031196447 2.0361226334314515\n",
      "Rec 0.037580065 1.1256135603339137\n",
      "WYds 0.040506583 13.448474589948612\n",
      "WTD 0.15423085 0.11392943584052477\n",
      "0.06313016026147775 {'BellLe00': [(287.3635, 321.0), (1231.492, 1291.0), (8.027457, 9.0), (112.95923, 106.0), (74.27612, 85.0), (733.8019, 655.0), (1.9447753, 2.0)], 'GurlTo01': [(197.77536, 279.0), (1087.0859, 1305.0), (9.070814, 13.0), (97.9366, 87.0), (73.681145, 64.0), (658.7759, 788.0), (4.1988287, 6.0)], 'ElliEz00': [(215.41801, 242.0), (853.629, 983.0), (5.2333655, 7.0), (35.168427, 38.0), (25.91597, 26.0), (254.81407, 269.0), (1.0982074, 2.0)], 'KamaAl00': [(157.10434, 120.0), (633.5492, 728.0), (5.1761518, 8.0), (107.562775, 100.0), (73.49596, 81.0), (822.9754, 826.0), (4.7029667, 5.0)], 'HuntKa00': [(262.62683, 272.0), (1193.5303, 1327.0), (7.590603, 8.0), (66.86464, 63.0), (45.67682, 53.0), (430.61688, 455.0), (3.4976506, 3.0)]}\n"
     ]
    }
   ],
   "source": [
    "%run -i complexrnn.py RB"
   ]
  },
  {
   "cell_type": "code",
   "execution_count": null,
   "metadata": {},
   "outputs": [],
   "source": []
  }
 ],
 "metadata": {
  "kernelspec": {
   "display_name": "Python 3",
   "language": "python",
   "name": "python3"
  },
  "language_info": {
   "codemirror_mode": {
    "name": "ipython",
    "version": 3
   },
   "file_extension": ".py",
   "mimetype": "text/x-python",
   "name": "python",
   "nbconvert_exporter": "python",
   "pygments_lexer": "ipython3",
   "version": "3.6.4"
  }
 },
 "nbformat": 4,
 "nbformat_minor": 2
}
