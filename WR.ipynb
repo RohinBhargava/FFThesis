{
 "cells": [
  {
   "cell_type": "code",
   "execution_count": 1,
   "metadata": {},
   "outputs": [
    {
     "name": "stderr",
     "output_type": "stream",
     "text": [
      "/usr/lib/python3.6/site-packages/sklearn/cross_validation.py:41: DeprecationWarning: This module was deprecated in version 0.18 in favor of the model_selection module into which all the refactored classes and functions are moved. Also note that the interface of the new CV iterators are different from that of this module. This module will be removed in 0.20.\n",
      "  \"This module will be removed in 0.20.\", DeprecationWarning)\n",
      "/home/legmonkey/Documents/FFThesis/common.py:52: SettingWithCopyWarning: \n",
      "A value is trying to be set on a copy of a slice from a DataFrame\n",
      "\n",
      "See the caveats in the documentation: http://pandas.pydata.org/pandas-docs/stable/indexing.html#indexing-view-versus-copy\n",
      "  row[b] = np.float32(0)\n"
     ]
    },
    {
     "name": "stdout",
     "output_type": "stream",
     "text": [
      "Cmp 1.005563\n",
      "Att 0.9998188\n",
      "Yds 1.0189126\n",
      "TD 1.0071379\n",
      "Int 0.99999875\n",
      "RAtt 0.837422\n",
      "RYds 0.8626052\n",
      "Y/A 0.896894\n",
      "RTD 0.94645905\n",
      "Tgt 0.45833305\n",
      "Rec 0.44590846\n",
      "WYds 0.46851522\n",
      "Y/R 0.6531708\n",
      "WTD 0.6338288\n",
      "FantPt 0.4719691\n",
      "0.7804357826709747\n"
     ]
    }
   ],
   "source": [
    "%run -i baseline.py WR"
   ]
  },
  {
   "cell_type": "code",
   "execution_count": 3,
   "metadata": {},
   "outputs": [
    {
     "name": "stderr",
     "output_type": "stream",
     "text": [
      "/usr/lib/python3.6/site-packages/statsmodels/compat/pandas.py:56: FutureWarning: The pandas.core.datetools module is deprecated and will be removed in a future version. Please use the pandas.tseries module instead.\n",
      "  from pandas.core import datetools\n"
     ]
    },
    {
     "name": "stdout",
     "output_type": "stream",
     "text": [
      "15 12.096497819268954\n",
      "45 307.93223024846725\n",
      "197 307.93223024846725\n",
      "202 12.096497819268954\n",
      "291 19.37754659642991\n",
      "393 307.93223024846725\n",
      "449 307.93223024846725\n",
      "456 4994.577298753012\n",
      "462 307.93223024846725\n",
      "490 307.93223024846725\n",
      "527 12.096497819268954\n",
      "Cmp 43917.749637485744\n",
      "527 12.97308292286575\n",
      "Att 15310.333973874715\n",
      "45 202.16678738398255\n",
      "197 456.83801266396836\n",
      "291 28.70503933175827\n",
      "393 112.0384485256231\n",
      "456 453.1466940854125\n",
      "462 4783.082398563598\n",
      "490 531.6224384064404\n",
      "Yds 40670.24362873053\n",
      "291 17.173058343491196\n",
      "527 17.05041015112932\n",
      "TD 5510.517954174184\n",
      "477 13.898803708767757\n",
      "490 13.898803708767757\n",
      "503 10924.670046891391\n",
      "580 13.898803708767757\n",
      "Int 205419.96253021376\n",
      "527 18.846567692716796\n",
      "RAtt 312.7200749081248\n",
      "378 13.51362385564854\n",
      "527 17.407107555804142\n",
      "RYds 13092.817545523223\n",
      "84 37.135549257265154\n",
      "240 19.029313823217567\n",
      "387 149.16734621839817\n",
      "405 37.55680128137406\n",
      "419 38.39714258971872\n",
      "433 61.89975657165667\n",
      "449 13.747929426764653\n",
      "453 182.96196859785286\n",
      "477 51.199173265575226\n",
      "478 43.1539293107768\n",
      "479 13.747929426764653\n",
      "481 81.05125319127232\n",
      "482 85.8610355427403\n",
      "496 33.95160125891503\n",
      "502 17.075095766379988\n",
      "511 13.705518872016263\n",
      "515 20.01002246940354\n",
      "516 19.029313823217567\n",
      "Y/A 150.1259019308578\n",
      "324 10.197313926175994\n",
      "527 14.611897247434271\n",
      "RTD 160650.12779443682\n",
      "476 841.6454364988206\n",
      "477 396.92928652851185\n",
      "478 633.0605443891704\n",
      "479 250.39151297906352\n",
      "480 145.50057941715048\n",
      "481 144.50162575110696\n",
      "482 376.3503623852623\n",
      "483 250.36229937175227\n",
      "484 52.956060458048725\n",
      "485 393.8618606814583\n",
      "486 306.6637599765972\n",
      "487 45.17090494657723\n",
      "488 28.099982809556327\n",
      "489 14.704689731118828\n",
      "491 27.38084366364161\n",
      "492 11.32571164219726\n",
      "493 72.0201862462609\n",
      "494 10.155392885025142\n",
      "496 74.42133304110101\n",
      "497 41.84598112616668\n",
      "498 70.26737150631836\n",
      "499 45.84281728888718\n",
      "500 14.120418121335655\n",
      "501 11.297198676336981\n",
      "503 23.552418435180375\n",
      "510 13.878318978732885\n",
      "511 14.988435043281378\n",
      "Tgt 3205.2307083869637\n",
      "Rec 1314.400447914135\n",
      "476 162.06850397550244\n",
      "477 66.29663437566509\n",
      "478 218.03559016879285\n",
      "479 13.33175682197816\n",
      "480 187.31994422382107\n",
      "481 112.44589846980998\n",
      "482 168.32461245116963\n",
      "483 114.50644586784664\n",
      "484 80.23510863874625\n",
      "485 54.94193885506161\n",
      "486 78.97050317574417\n",
      "487 23.72112785090018\n",
      "488 14.011124186019657\n",
      "489 19.894466531509213\n",
      "491 34.551652937765084\n",
      "493 21.57201563421159\n",
      "WYds 338.3909122293862\n",
      "Y/R 962.2317951745435\n",
      "294 28.238466261502545\n",
      "359 14.440865804494248\n",
      "422 27.156241028186123\n",
      "433 113.0774016662028\n",
      "434 28.779578863259594\n",
      "438 114.70073950127627\n",
      "449 113.0774016662028\n",
      "456 113.61851426795985\n",
      "476 979.6341803671946\n",
      "477 435.4105174605036\n",
      "478 396.7085726224473\n",
      "479 106.52736487573485\n",
      "480 30.944029270287793\n",
      "481 30.944029270287793\n",
      "483 105.9862522739778\n",
      "484 113.0774016662028\n",
      "485 27.156241028186123\n",
      "486 107.06847750729422\n",
      "487 27.156241028186123\n",
      "488 27.156241028186123\n",
      "489 27.156241028186123\n",
      "490 27.156241028186123\n",
      "492 27.156241028186123\n",
      "494 28.238466261502545\n",
      "WTD 2438.2950655010104\n",
      "FantPt 152591.72523513093\n",
      "43058.991547041\n"
     ]
    }
   ],
   "source": [
    "%run -i arima.py WR"
   ]
  },
  {
   "cell_type": "code",
   "execution_count": 2,
   "metadata": {},
   "outputs": [
    {
     "name": "stdout",
     "output_type": "stream",
     "text": [
      "Cmp 1.0025957\n"
     ]
    },
    {
     "name": "stderr",
     "output_type": "stream",
     "text": [
      "/usr/lib/python3.6/site-packages/tensorflow/python/client/session.py:1711: UserWarning: An interactive session is already active. This can cause out-of-memory errors in some cases. You must explicitly call `InteractiveSession.close()` to release resources held by the other session(s).\n",
      "  warnings.warn('An interactive session is already active. This can '\n"
     ]
    },
    {
     "name": "stdout",
     "output_type": "stream",
     "text": [
      "Att 0.98986596\n",
      "Yds 1.0052711\n",
      "TD 0.9862842\n",
      "Int 0.9999912\n",
      "RAtt 0.84566206\n",
      "RYds 0.80953926\n",
      "Y/A 0.9032365\n",
      "RTD 0.94247514\n",
      "Tgt 0.4491587\n",
      "Rec 0.43524784\n",
      "WYds 0.43817776\n",
      "Y/R 0.6400885\n",
      "WTD 0.56242824\n",
      "FantPt 0.43533936\n",
      "0.763024095694224\n"
     ]
    }
   ],
   "source": [
    "%run -i rnn.py WR"
   ]
  },
  {
   "cell_type": "code",
   "execution_count": null,
   "metadata": {},
   "outputs": [],
   "source": []
  }
 ],
 "metadata": {
  "kernelspec": {
   "display_name": "Python 3",
   "language": "python",
   "name": "python3"
  },
  "language_info": {
   "codemirror_mode": {
    "name": "ipython",
    "version": 3
   },
   "file_extension": ".py",
   "mimetype": "text/x-python",
   "name": "python",
   "nbconvert_exporter": "python",
   "pygments_lexer": "ipython3",
   "version": "3.6.4"
  }
 },
 "nbformat": 4,
 "nbformat_minor": 2
}
